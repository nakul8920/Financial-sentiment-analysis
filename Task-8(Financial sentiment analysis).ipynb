{
 "cells": [
  {
   "cell_type": "code",
   "execution_count": 1,
   "id": "395436a1",
   "metadata": {},
   "outputs": [
    {
     "name": "stdout",
     "output_type": "stream",
     "text": [
      "Requirement already satisfied: emoji in c:\\users\\dell\\anaconda3\\lib\\site-packages (2.11.1)\n"
     ]
    },
    {
     "name": "stderr",
     "output_type": "stream",
     "text": [
      "[nltk_data] Downloading collection 'all'\n",
      "[nltk_data]    | \n",
      "[nltk_data]    | Downloading package abc to\n",
      "[nltk_data]    |     C:\\Users\\Dell\\AppData\\Roaming\\nltk_data...\n",
      "[nltk_data]    |   Package abc is already up-to-date!\n",
      "[nltk_data]    | Downloading package alpino to\n",
      "[nltk_data]    |     C:\\Users\\Dell\\AppData\\Roaming\\nltk_data...\n",
      "[nltk_data]    |   Package alpino is already up-to-date!\n",
      "[nltk_data]    | Downloading package averaged_perceptron_tagger to\n",
      "[nltk_data]    |     C:\\Users\\Dell\\AppData\\Roaming\\nltk_data...\n",
      "[nltk_data]    |   Package averaged_perceptron_tagger is already up-\n",
      "[nltk_data]    |       to-date!\n",
      "[nltk_data]    | Downloading package averaged_perceptron_tagger_ru to\n",
      "[nltk_data]    |     C:\\Users\\Dell\\AppData\\Roaming\\nltk_data...\n",
      "[nltk_data]    |   Package averaged_perceptron_tagger_ru is already\n",
      "[nltk_data]    |       up-to-date!\n",
      "[nltk_data]    | Downloading package basque_grammars to\n",
      "[nltk_data]    |     C:\\Users\\Dell\\AppData\\Roaming\\nltk_data...\n",
      "[nltk_data]    |   Package basque_grammars is already up-to-date!\n",
      "[nltk_data]    | Downloading package bcp47 to\n",
      "[nltk_data]    |     C:\\Users\\Dell\\AppData\\Roaming\\nltk_data...\n",
      "[nltk_data]    |   Package bcp47 is already up-to-date!\n",
      "[nltk_data]    | Downloading package biocreative_ppi to\n",
      "[nltk_data]    |     C:\\Users\\Dell\\AppData\\Roaming\\nltk_data...\n",
      "[nltk_data]    |   Package biocreative_ppi is already up-to-date!\n",
      "[nltk_data]    | Downloading package bllip_wsj_no_aux to\n",
      "[nltk_data]    |     C:\\Users\\Dell\\AppData\\Roaming\\nltk_data...\n",
      "[nltk_data]    |   Package bllip_wsj_no_aux is already up-to-date!\n",
      "[nltk_data]    | Downloading package book_grammars to\n",
      "[nltk_data]    |     C:\\Users\\Dell\\AppData\\Roaming\\nltk_data...\n",
      "[nltk_data]    |   Package book_grammars is already up-to-date!\n",
      "[nltk_data]    | Downloading package brown to\n",
      "[nltk_data]    |     C:\\Users\\Dell\\AppData\\Roaming\\nltk_data...\n",
      "[nltk_data]    |   Package brown is already up-to-date!\n",
      "[nltk_data]    | Downloading package brown_tei to\n",
      "[nltk_data]    |     C:\\Users\\Dell\\AppData\\Roaming\\nltk_data...\n",
      "[nltk_data]    |   Package brown_tei is already up-to-date!\n",
      "[nltk_data]    | Downloading package cess_cat to\n",
      "[nltk_data]    |     C:\\Users\\Dell\\AppData\\Roaming\\nltk_data...\n",
      "[nltk_data]    |   Package cess_cat is already up-to-date!\n",
      "[nltk_data]    | Downloading package cess_esp to\n",
      "[nltk_data]    |     C:\\Users\\Dell\\AppData\\Roaming\\nltk_data...\n",
      "[nltk_data]    |   Package cess_esp is already up-to-date!\n",
      "[nltk_data]    | Downloading package chat80 to\n",
      "[nltk_data]    |     C:\\Users\\Dell\\AppData\\Roaming\\nltk_data...\n",
      "[nltk_data]    |   Package chat80 is already up-to-date!\n",
      "[nltk_data]    | Downloading package city_database to\n",
      "[nltk_data]    |     C:\\Users\\Dell\\AppData\\Roaming\\nltk_data...\n",
      "[nltk_data]    |   Package city_database is already up-to-date!\n",
      "[nltk_data]    | Downloading package cmudict to\n",
      "[nltk_data]    |     C:\\Users\\Dell\\AppData\\Roaming\\nltk_data...\n",
      "[nltk_data]    |   Package cmudict is already up-to-date!\n",
      "[nltk_data]    | Downloading package comparative_sentences to\n",
      "[nltk_data]    |     C:\\Users\\Dell\\AppData\\Roaming\\nltk_data...\n",
      "[nltk_data]    |   Package comparative_sentences is already up-to-\n",
      "[nltk_data]    |       date!\n",
      "[nltk_data]    | Downloading package comtrans to\n",
      "[nltk_data]    |     C:\\Users\\Dell\\AppData\\Roaming\\nltk_data...\n",
      "[nltk_data]    |   Package comtrans is already up-to-date!\n",
      "[nltk_data]    | Downloading package conll2000 to\n",
      "[nltk_data]    |     C:\\Users\\Dell\\AppData\\Roaming\\nltk_data...\n",
      "[nltk_data]    |   Package conll2000 is already up-to-date!\n",
      "[nltk_data]    | Downloading package conll2002 to\n",
      "[nltk_data]    |     C:\\Users\\Dell\\AppData\\Roaming\\nltk_data...\n",
      "[nltk_data]    |   Package conll2002 is already up-to-date!\n",
      "[nltk_data]    | Downloading package conll2007 to\n",
      "[nltk_data]    |     C:\\Users\\Dell\\AppData\\Roaming\\nltk_data...\n",
      "[nltk_data]    |   Package conll2007 is already up-to-date!\n",
      "[nltk_data]    | Downloading package crubadan to\n",
      "[nltk_data]    |     C:\\Users\\Dell\\AppData\\Roaming\\nltk_data...\n",
      "[nltk_data]    |   Package crubadan is already up-to-date!\n",
      "[nltk_data]    | Downloading package dependency_treebank to\n",
      "[nltk_data]    |     C:\\Users\\Dell\\AppData\\Roaming\\nltk_data...\n",
      "[nltk_data]    |   Package dependency_treebank is already up-to-date!\n",
      "[nltk_data]    | Downloading package dolch to\n",
      "[nltk_data]    |     C:\\Users\\Dell\\AppData\\Roaming\\nltk_data...\n",
      "[nltk_data]    |   Package dolch is already up-to-date!\n",
      "[nltk_data]    | Downloading package europarl_raw to\n",
      "[nltk_data]    |     C:\\Users\\Dell\\AppData\\Roaming\\nltk_data...\n",
      "[nltk_data]    |   Package europarl_raw is already up-to-date!\n",
      "[nltk_data]    | Downloading package extended_omw to\n",
      "[nltk_data]    |     C:\\Users\\Dell\\AppData\\Roaming\\nltk_data...\n",
      "[nltk_data]    |   Package extended_omw is already up-to-date!\n",
      "[nltk_data]    | Downloading package floresta to\n",
      "[nltk_data]    |     C:\\Users\\Dell\\AppData\\Roaming\\nltk_data...\n",
      "[nltk_data]    |   Package floresta is already up-to-date!\n",
      "[nltk_data]    | Downloading package framenet_v15 to\n",
      "[nltk_data]    |     C:\\Users\\Dell\\AppData\\Roaming\\nltk_data...\n",
      "[nltk_data]    |   Package framenet_v15 is already up-to-date!\n",
      "[nltk_data]    | Downloading package framenet_v17 to\n",
      "[nltk_data]    |     C:\\Users\\Dell\\AppData\\Roaming\\nltk_data...\n",
      "[nltk_data]    |   Package framenet_v17 is already up-to-date!\n",
      "[nltk_data]    | Downloading package gazetteers to\n",
      "[nltk_data]    |     C:\\Users\\Dell\\AppData\\Roaming\\nltk_data...\n",
      "[nltk_data]    |   Package gazetteers is already up-to-date!\n",
      "[nltk_data]    | Downloading package genesis to\n",
      "[nltk_data]    |     C:\\Users\\Dell\\AppData\\Roaming\\nltk_data...\n",
      "[nltk_data]    |   Package genesis is already up-to-date!\n",
      "[nltk_data]    | Downloading package gutenberg to\n",
      "[nltk_data]    |     C:\\Users\\Dell\\AppData\\Roaming\\nltk_data...\n",
      "[nltk_data]    |   Package gutenberg is already up-to-date!\n",
      "[nltk_data]    | Downloading package ieer to\n",
      "[nltk_data]    |     C:\\Users\\Dell\\AppData\\Roaming\\nltk_data...\n",
      "[nltk_data]    |   Package ieer is already up-to-date!\n",
      "[nltk_data]    | Downloading package inaugural to\n",
      "[nltk_data]    |     C:\\Users\\Dell\\AppData\\Roaming\\nltk_data...\n",
      "[nltk_data]    |   Package inaugural is already up-to-date!\n",
      "[nltk_data]    | Downloading package indian to\n",
      "[nltk_data]    |     C:\\Users\\Dell\\AppData\\Roaming\\nltk_data...\n",
      "[nltk_data]    |   Package indian is already up-to-date!\n",
      "[nltk_data]    | Downloading package jeita to\n",
      "[nltk_data]    |     C:\\Users\\Dell\\AppData\\Roaming\\nltk_data...\n",
      "[nltk_data]    |   Package jeita is already up-to-date!\n",
      "[nltk_data]    | Downloading package kimmo to\n",
      "[nltk_data]    |     C:\\Users\\Dell\\AppData\\Roaming\\nltk_data...\n",
      "[nltk_data]    |   Package kimmo is already up-to-date!\n",
      "[nltk_data]    | Downloading package knbc to\n",
      "[nltk_data]    |     C:\\Users\\Dell\\AppData\\Roaming\\nltk_data...\n",
      "[nltk_data]    |   Package knbc is already up-to-date!\n",
      "[nltk_data]    | Downloading package large_grammars to\n",
      "[nltk_data]    |     C:\\Users\\Dell\\AppData\\Roaming\\nltk_data...\n",
      "[nltk_data]    |   Package large_grammars is already up-to-date!\n",
      "[nltk_data]    | Downloading package lin_thesaurus to\n",
      "[nltk_data]    |     C:\\Users\\Dell\\AppData\\Roaming\\nltk_data...\n",
      "[nltk_data]    |   Package lin_thesaurus is already up-to-date!\n",
      "[nltk_data]    | Downloading package mac_morpho to\n",
      "[nltk_data]    |     C:\\Users\\Dell\\AppData\\Roaming\\nltk_data...\n",
      "[nltk_data]    |   Package mac_morpho is already up-to-date!\n",
      "[nltk_data]    | Downloading package machado to\n",
      "[nltk_data]    |     C:\\Users\\Dell\\AppData\\Roaming\\nltk_data...\n",
      "[nltk_data]    |   Package machado is already up-to-date!\n",
      "[nltk_data]    | Downloading package masc_tagged to\n",
      "[nltk_data]    |     C:\\Users\\Dell\\AppData\\Roaming\\nltk_data...\n",
      "[nltk_data]    |   Package masc_tagged is already up-to-date!\n",
      "[nltk_data]    | Downloading package maxent_ne_chunker to\n",
      "[nltk_data]    |     C:\\Users\\Dell\\AppData\\Roaming\\nltk_data...\n",
      "[nltk_data]    |   Package maxent_ne_chunker is already up-to-date!\n",
      "[nltk_data]    | Downloading package maxent_treebank_pos_tagger to\n",
      "[nltk_data]    |     C:\\Users\\Dell\\AppData\\Roaming\\nltk_data...\n",
      "[nltk_data]    |   Package maxent_treebank_pos_tagger is already up-\n",
      "[nltk_data]    |       to-date!\n",
      "[nltk_data]    | Downloading package moses_sample to\n",
      "[nltk_data]    |     C:\\Users\\Dell\\AppData\\Roaming\\nltk_data...\n",
      "[nltk_data]    |   Package moses_sample is already up-to-date!\n",
      "[nltk_data]    | Downloading package movie_reviews to\n",
      "[nltk_data]    |     C:\\Users\\Dell\\AppData\\Roaming\\nltk_data...\n",
      "[nltk_data]    |   Package movie_reviews is already up-to-date!\n",
      "[nltk_data]    | Downloading package mte_teip5 to\n",
      "[nltk_data]    |     C:\\Users\\Dell\\AppData\\Roaming\\nltk_data...\n",
      "[nltk_data]    |   Package mte_teip5 is already up-to-date!\n",
      "[nltk_data]    | Downloading package mwa_ppdb to\n",
      "[nltk_data]    |     C:\\Users\\Dell\\AppData\\Roaming\\nltk_data...\n",
      "[nltk_data]    |   Package mwa_ppdb is already up-to-date!\n",
      "[nltk_data]    | Downloading package names to\n",
      "[nltk_data]    |     C:\\Users\\Dell\\AppData\\Roaming\\nltk_data...\n",
      "[nltk_data]    |   Package names is already up-to-date!\n",
      "[nltk_data]    | Downloading package nombank.1.0 to\n",
      "[nltk_data]    |     C:\\Users\\Dell\\AppData\\Roaming\\nltk_data...\n",
      "[nltk_data]    |   Package nombank.1.0 is already up-to-date!\n",
      "[nltk_data]    | Downloading package nonbreaking_prefixes to\n",
      "[nltk_data]    |     C:\\Users\\Dell\\AppData\\Roaming\\nltk_data...\n",
      "[nltk_data]    |   Package nonbreaking_prefixes is already up-to-date!\n",
      "[nltk_data]    | Downloading package nps_chat to\n",
      "[nltk_data]    |     C:\\Users\\Dell\\AppData\\Roaming\\nltk_data...\n",
      "[nltk_data]    |   Package nps_chat is already up-to-date!\n",
      "[nltk_data]    | Downloading package omw to\n",
      "[nltk_data]    |     C:\\Users\\Dell\\AppData\\Roaming\\nltk_data...\n",
      "[nltk_data]    |   Package omw is already up-to-date!\n",
      "[nltk_data]    | Downloading package omw-1.4 to\n",
      "[nltk_data]    |     C:\\Users\\Dell\\AppData\\Roaming\\nltk_data...\n",
      "[nltk_data]    |   Package omw-1.4 is already up-to-date!\n",
      "[nltk_data]    | Downloading package opinion_lexicon to\n",
      "[nltk_data]    |     C:\\Users\\Dell\\AppData\\Roaming\\nltk_data...\n",
      "[nltk_data]    |   Package opinion_lexicon is already up-to-date!\n",
      "[nltk_data]    | Downloading package panlex_swadesh to\n",
      "[nltk_data]    |     C:\\Users\\Dell\\AppData\\Roaming\\nltk_data...\n",
      "[nltk_data]    |   Package panlex_swadesh is already up-to-date!\n",
      "[nltk_data]    | Downloading package paradigms to\n",
      "[nltk_data]    |     C:\\Users\\Dell\\AppData\\Roaming\\nltk_data...\n",
      "[nltk_data]    |   Package paradigms is already up-to-date!\n",
      "[nltk_data]    | Downloading package pe08 to\n",
      "[nltk_data]    |     C:\\Users\\Dell\\AppData\\Roaming\\nltk_data...\n",
      "[nltk_data]    |   Package pe08 is already up-to-date!\n",
      "[nltk_data]    | Downloading package perluniprops to\n",
      "[nltk_data]    |     C:\\Users\\Dell\\AppData\\Roaming\\nltk_data...\n",
      "[nltk_data]    |   Package perluniprops is already up-to-date!\n",
      "[nltk_data]    | Downloading package pil to\n",
      "[nltk_data]    |     C:\\Users\\Dell\\AppData\\Roaming\\nltk_data...\n",
      "[nltk_data]    |   Package pil is already up-to-date!\n",
      "[nltk_data]    | Downloading package pl196x to\n",
      "[nltk_data]    |     C:\\Users\\Dell\\AppData\\Roaming\\nltk_data...\n",
      "[nltk_data]    |   Package pl196x is already up-to-date!\n",
      "[nltk_data]    | Downloading package porter_test to\n",
      "[nltk_data]    |     C:\\Users\\Dell\\AppData\\Roaming\\nltk_data...\n",
      "[nltk_data]    |   Package porter_test is already up-to-date!\n",
      "[nltk_data]    | Downloading package ppattach to\n",
      "[nltk_data]    |     C:\\Users\\Dell\\AppData\\Roaming\\nltk_data...\n",
      "[nltk_data]    |   Package ppattach is already up-to-date!\n",
      "[nltk_data]    | Downloading package problem_reports to\n",
      "[nltk_data]    |     C:\\Users\\Dell\\AppData\\Roaming\\nltk_data...\n",
      "[nltk_data]    |   Package problem_reports is already up-to-date!\n",
      "[nltk_data]    | Downloading package product_reviews_1 to\n",
      "[nltk_data]    |     C:\\Users\\Dell\\AppData\\Roaming\\nltk_data...\n",
      "[nltk_data]    |   Package product_reviews_1 is already up-to-date!\n",
      "[nltk_data]    | Downloading package product_reviews_2 to\n",
      "[nltk_data]    |     C:\\Users\\Dell\\AppData\\Roaming\\nltk_data...\n",
      "[nltk_data]    |   Package product_reviews_2 is already up-to-date!\n",
      "[nltk_data]    | Downloading package propbank to\n",
      "[nltk_data]    |     C:\\Users\\Dell\\AppData\\Roaming\\nltk_data...\n",
      "[nltk_data]    |   Package propbank is already up-to-date!\n",
      "[nltk_data]    | Downloading package pros_cons to\n",
      "[nltk_data]    |     C:\\Users\\Dell\\AppData\\Roaming\\nltk_data...\n",
      "[nltk_data]    |   Package pros_cons is already up-to-date!\n",
      "[nltk_data]    | Downloading package ptb to\n",
      "[nltk_data]    |     C:\\Users\\Dell\\AppData\\Roaming\\nltk_data...\n",
      "[nltk_data]    |   Package ptb is already up-to-date!\n",
      "[nltk_data]    | Downloading package punkt to\n",
      "[nltk_data]    |     C:\\Users\\Dell\\AppData\\Roaming\\nltk_data...\n",
      "[nltk_data]    |   Package punkt is already up-to-date!\n",
      "[nltk_data]    | Downloading package qc to\n",
      "[nltk_data]    |     C:\\Users\\Dell\\AppData\\Roaming\\nltk_data...\n",
      "[nltk_data]    |   Package qc is already up-to-date!\n",
      "[nltk_data]    | Downloading package reuters to\n",
      "[nltk_data]    |     C:\\Users\\Dell\\AppData\\Roaming\\nltk_data...\n",
      "[nltk_data]    |   Package reuters is already up-to-date!\n",
      "[nltk_data]    | Downloading package rslp to\n",
      "[nltk_data]    |     C:\\Users\\Dell\\AppData\\Roaming\\nltk_data...\n",
      "[nltk_data]    |   Package rslp is already up-to-date!\n",
      "[nltk_data]    | Downloading package rte to\n",
      "[nltk_data]    |     C:\\Users\\Dell\\AppData\\Roaming\\nltk_data...\n",
      "[nltk_data]    |   Package rte is already up-to-date!\n",
      "[nltk_data]    | Downloading package sample_grammars to\n",
      "[nltk_data]    |     C:\\Users\\Dell\\AppData\\Roaming\\nltk_data...\n",
      "[nltk_data]    |   Package sample_grammars is already up-to-date!\n",
      "[nltk_data]    | Downloading package semcor to\n",
      "[nltk_data]    |     C:\\Users\\Dell\\AppData\\Roaming\\nltk_data...\n",
      "[nltk_data]    |   Package semcor is already up-to-date!\n",
      "[nltk_data]    | Downloading package senseval to\n",
      "[nltk_data]    |     C:\\Users\\Dell\\AppData\\Roaming\\nltk_data...\n",
      "[nltk_data]    |   Package senseval is already up-to-date!\n",
      "[nltk_data]    | Downloading package sentence_polarity to\n",
      "[nltk_data]    |     C:\\Users\\Dell\\AppData\\Roaming\\nltk_data...\n",
      "[nltk_data]    |   Package sentence_polarity is already up-to-date!\n",
      "[nltk_data]    | Downloading package sentiwordnet to\n",
      "[nltk_data]    |     C:\\Users\\Dell\\AppData\\Roaming\\nltk_data...\n",
      "[nltk_data]    |   Package sentiwordnet is already up-to-date!\n",
      "[nltk_data]    | Downloading package shakespeare to\n",
      "[nltk_data]    |     C:\\Users\\Dell\\AppData\\Roaming\\nltk_data...\n",
      "[nltk_data]    |   Package shakespeare is already up-to-date!\n",
      "[nltk_data]    | Downloading package sinica_treebank to\n",
      "[nltk_data]    |     C:\\Users\\Dell\\AppData\\Roaming\\nltk_data...\n",
      "[nltk_data]    |   Package sinica_treebank is already up-to-date!\n",
      "[nltk_data]    | Downloading package smultron to\n",
      "[nltk_data]    |     C:\\Users\\Dell\\AppData\\Roaming\\nltk_data...\n",
      "[nltk_data]    |   Package smultron is already up-to-date!\n",
      "[nltk_data]    | Downloading package snowball_data to\n",
      "[nltk_data]    |     C:\\Users\\Dell\\AppData\\Roaming\\nltk_data...\n",
      "[nltk_data]    |   Package snowball_data is already up-to-date!\n",
      "[nltk_data]    | Downloading package spanish_grammars to\n",
      "[nltk_data]    |     C:\\Users\\Dell\\AppData\\Roaming\\nltk_data...\n",
      "[nltk_data]    |   Package spanish_grammars is already up-to-date!\n",
      "[nltk_data]    | Downloading package state_union to\n",
      "[nltk_data]    |     C:\\Users\\Dell\\AppData\\Roaming\\nltk_data...\n",
      "[nltk_data]    |   Package state_union is already up-to-date!\n",
      "[nltk_data]    | Downloading package stopwords to\n",
      "[nltk_data]    |     C:\\Users\\Dell\\AppData\\Roaming\\nltk_data...\n",
      "[nltk_data]    |   Package stopwords is already up-to-date!\n",
      "[nltk_data]    | Downloading package subjectivity to\n",
      "[nltk_data]    |     C:\\Users\\Dell\\AppData\\Roaming\\nltk_data...\n",
      "[nltk_data]    |   Package subjectivity is already up-to-date!\n",
      "[nltk_data]    | Downloading package swadesh to\n",
      "[nltk_data]    |     C:\\Users\\Dell\\AppData\\Roaming\\nltk_data...\n",
      "[nltk_data]    |   Package swadesh is already up-to-date!\n",
      "[nltk_data]    | Downloading package switchboard to\n",
      "[nltk_data]    |     C:\\Users\\Dell\\AppData\\Roaming\\nltk_data...\n",
      "[nltk_data]    |   Package switchboard is already up-to-date!\n",
      "[nltk_data]    | Downloading package tagsets to\n",
      "[nltk_data]    |     C:\\Users\\Dell\\AppData\\Roaming\\nltk_data...\n",
      "[nltk_data]    |   Package tagsets is already up-to-date!\n",
      "[nltk_data]    | Downloading package timit to\n",
      "[nltk_data]    |     C:\\Users\\Dell\\AppData\\Roaming\\nltk_data...\n",
      "[nltk_data]    |   Package timit is already up-to-date!\n",
      "[nltk_data]    | Downloading package toolbox to\n",
      "[nltk_data]    |     C:\\Users\\Dell\\AppData\\Roaming\\nltk_data...\n",
      "[nltk_data]    |   Package toolbox is already up-to-date!\n",
      "[nltk_data]    | Downloading package treebank to\n",
      "[nltk_data]    |     C:\\Users\\Dell\\AppData\\Roaming\\nltk_data...\n",
      "[nltk_data]    |   Package treebank is already up-to-date!\n",
      "[nltk_data]    | Downloading package twitter_samples to\n",
      "[nltk_data]    |     C:\\Users\\Dell\\AppData\\Roaming\\nltk_data...\n",
      "[nltk_data]    |   Package twitter_samples is already up-to-date!\n",
      "[nltk_data]    | Downloading package udhr to\n",
      "[nltk_data]    |     C:\\Users\\Dell\\AppData\\Roaming\\nltk_data...\n",
      "[nltk_data]    |   Package udhr is already up-to-date!\n",
      "[nltk_data]    | Downloading package udhr2 to\n",
      "[nltk_data]    |     C:\\Users\\Dell\\AppData\\Roaming\\nltk_data...\n",
      "[nltk_data]    |   Package udhr2 is already up-to-date!\n",
      "[nltk_data]    | Downloading package unicode_samples to\n",
      "[nltk_data]    |     C:\\Users\\Dell\\AppData\\Roaming\\nltk_data...\n",
      "[nltk_data]    |   Package unicode_samples is already up-to-date!\n",
      "[nltk_data]    | Downloading package universal_tagset to\n",
      "[nltk_data]    |     C:\\Users\\Dell\\AppData\\Roaming\\nltk_data...\n",
      "[nltk_data]    |   Package universal_tagset is already up-to-date!\n",
      "[nltk_data]    | Downloading package universal_treebanks_v20 to\n",
      "[nltk_data]    |     C:\\Users\\Dell\\AppData\\Roaming\\nltk_data...\n",
      "[nltk_data]    |   Package universal_treebanks_v20 is already up-to-\n",
      "[nltk_data]    |       date!\n",
      "[nltk_data]    | Downloading package vader_lexicon to\n",
      "[nltk_data]    |     C:\\Users\\Dell\\AppData\\Roaming\\nltk_data...\n",
      "[nltk_data]    |   Package vader_lexicon is already up-to-date!\n",
      "[nltk_data]    | Downloading package verbnet to\n",
      "[nltk_data]    |     C:\\Users\\Dell\\AppData\\Roaming\\nltk_data...\n",
      "[nltk_data]    |   Package verbnet is already up-to-date!\n",
      "[nltk_data]    | Downloading package verbnet3 to\n",
      "[nltk_data]    |     C:\\Users\\Dell\\AppData\\Roaming\\nltk_data...\n",
      "[nltk_data]    |   Package verbnet3 is already up-to-date!\n",
      "[nltk_data]    | Downloading package webtext to\n",
      "[nltk_data]    |     C:\\Users\\Dell\\AppData\\Roaming\\nltk_data...\n",
      "[nltk_data]    |   Package webtext is already up-to-date!\n",
      "[nltk_data]    | Downloading package wmt15_eval to\n",
      "[nltk_data]    |     C:\\Users\\Dell\\AppData\\Roaming\\nltk_data...\n",
      "[nltk_data]    |   Package wmt15_eval is already up-to-date!\n",
      "[nltk_data]    | Downloading package word2vec_sample to\n",
      "[nltk_data]    |     C:\\Users\\Dell\\AppData\\Roaming\\nltk_data...\n",
      "[nltk_data]    |   Package word2vec_sample is already up-to-date!\n",
      "[nltk_data]    | Downloading package wordnet to\n",
      "[nltk_data]    |     C:\\Users\\Dell\\AppData\\Roaming\\nltk_data...\n",
      "[nltk_data]    |   Package wordnet is already up-to-date!\n",
      "[nltk_data]    | Downloading package wordnet2021 to\n",
      "[nltk_data]    |     C:\\Users\\Dell\\AppData\\Roaming\\nltk_data...\n",
      "[nltk_data]    |   Package wordnet2021 is already up-to-date!\n",
      "[nltk_data]    | Downloading package wordnet2022 to\n",
      "[nltk_data]    |     C:\\Users\\Dell\\AppData\\Roaming\\nltk_data...\n",
      "[nltk_data]    |   Package wordnet2022 is already up-to-date!\n",
      "[nltk_data]    | Downloading package wordnet31 to\n",
      "[nltk_data]    |     C:\\Users\\Dell\\AppData\\Roaming\\nltk_data...\n",
      "[nltk_data]    |   Package wordnet31 is already up-to-date!\n",
      "[nltk_data]    | Downloading package wordnet_ic to\n",
      "[nltk_data]    |     C:\\Users\\Dell\\AppData\\Roaming\\nltk_data...\n",
      "[nltk_data]    |   Package wordnet_ic is already up-to-date!\n",
      "[nltk_data]    | Downloading package words to\n",
      "[nltk_data]    |     C:\\Users\\Dell\\AppData\\Roaming\\nltk_data...\n",
      "[nltk_data]    |   Package words is already up-to-date!\n",
      "[nltk_data]    | Downloading package ycoe to\n",
      "[nltk_data]    |     C:\\Users\\Dell\\AppData\\Roaming\\nltk_data...\n",
      "[nltk_data]    |   Package ycoe is already up-to-date!\n",
      "[nltk_data]    | \n",
      "[nltk_data]  Done downloading collection all\n",
      "[nltk_data] Downloading package punkt to\n",
      "[nltk_data]     C:\\Users\\Dell\\AppData\\Roaming\\nltk_data...\n",
      "[nltk_data]   Package punkt is already up-to-date!\n",
      "[nltk_data] Downloading package stopwords to\n",
      "[nltk_data]     C:\\Users\\Dell\\AppData\\Roaming\\nltk_data...\n",
      "[nltk_data]   Package stopwords is already up-to-date!\n"
     ]
    }
   ],
   "source": [
    "# Import all the required libraries\n",
    "import re\n",
    "import pandas as pd\n",
    "import numpy as np\n",
    "import os\n",
    "import datetime as dt\n",
    "from matplotlib import pyplot as plt\n",
    "%matplotlib inline\n",
    "import seaborn as sns\n",
    "from collections import Counter\n",
    "import string\n",
    "!pip install emoji\n",
    "import emoji\n",
    "pd.set_option('display.max_rows',500)\n",
    "import warnings\n",
    "warnings.filterwarnings(\"ignore\")\n",
    "#import stopwords and text processing libraries\n",
    "from collections import Counter\n",
    "import string\n",
    "import unicodedata\n",
    "import nltk\n",
    "nltk.download('all')\n",
    "nltk.download('punkt')\n",
    "nltk.download('stopwords')\n",
    "from nltk.tokenize import word_tokenize\n",
    "from nltk.corpus import stopwords\n",
    "from sklearn.feature_extraction.text import TfidfVectorizer\n",
    "from sklearn.decomposition import NMF\n",
    "from nltk.stem.porter import *\n",
    "from nltk.stem.wordnet import WordNetLemmatizer"
   ]
  },
  {
   "cell_type": "code",
   "execution_count": 2,
   "id": "efff2a51",
   "metadata": {},
   "outputs": [],
   "source": [
    "#import machine learning libraries\n",
    "from sklearn.model_selection import train_test_split\n",
    "from sklearn.feature_extraction.text import TfidfVectorizer\n",
    "from sklearn.svm import LinearSVC\n",
    "from sklearn.pipeline import make_pipeline\n",
    "from sklearn.datasets import make_classification\n",
    "from sklearn.metrics import accuracy_score\n",
    "from sklearn.metrics import confusion_matrix, ConfusionMatrixDisplay\n",
    "from sklearn.metrics import classification_report\n",
    "from sklearn.feature_extraction.text import CountVectorizer\n",
    "from sklearn.feature_extraction.text import TfidfTransformer\n",
    "from sklearn.linear_model import LogisticRegression\n",
    "from sklearn.naive_bayes import MultinomialNB\n",
    "from sklearn.naive_bayes import BernoulliNB\n",
    "from sklearn.ensemble import GradientBoostingClassifier\n",
    "from sklearn.tree import DecisionTreeClassifier\n",
    "from sklearn.neighbors import KNeighborsClassifier"
   ]
  },
  {
   "cell_type": "markdown",
   "id": "ce033ffe",
   "metadata": {},
   "source": [
    "# Basic EDA on cnbc_headlines dataset\n",
    "Read csv file of cnbc headlines using pandas\n"
   ]
  },
  {
   "cell_type": "code",
   "execution_count": 3,
   "id": "58da2940",
   "metadata": {},
   "outputs": [
    {
     "data": {
      "text/html": [
       "<div>\n",
       "<style scoped>\n",
       "    .dataframe tbody tr th:only-of-type {\n",
       "        vertical-align: middle;\n",
       "    }\n",
       "\n",
       "    .dataframe tbody tr th {\n",
       "        vertical-align: top;\n",
       "    }\n",
       "\n",
       "    .dataframe thead th {\n",
       "        text-align: right;\n",
       "    }\n",
       "</style>\n",
       "<table border=\"1\" class=\"dataframe\">\n",
       "  <thead>\n",
       "    <tr style=\"text-align: right;\">\n",
       "      <th></th>\n",
       "      <th>Headlines</th>\n",
       "      <th>Time</th>\n",
       "      <th>Description</th>\n",
       "    </tr>\n",
       "  </thead>\n",
       "  <tbody>\n",
       "    <tr>\n",
       "      <th>0</th>\n",
       "      <td>Jim Cramer: A better way to invest in the Covi...</td>\n",
       "      <td>7:51  PM ET Fri, 17 July 2020</td>\n",
       "      <td>\"Mad Money\" host Jim Cramer recommended buying...</td>\n",
       "    </tr>\n",
       "    <tr>\n",
       "      <th>1</th>\n",
       "      <td>Cramer's lightning round: I would own Teradyne</td>\n",
       "      <td>7:33  PM ET Fri, 17 July 2020</td>\n",
       "      <td>\"Mad Money\" host Jim Cramer rings the lightnin...</td>\n",
       "    </tr>\n",
       "    <tr>\n",
       "      <th>2</th>\n",
       "      <td>NaN</td>\n",
       "      <td>NaN</td>\n",
       "      <td>NaN</td>\n",
       "    </tr>\n",
       "    <tr>\n",
       "      <th>3</th>\n",
       "      <td>Cramer's week ahead: Big week for earnings, ev...</td>\n",
       "      <td>7:25  PM ET Fri, 17 July 2020</td>\n",
       "      <td>\"We'll pay more for the earnings of the non-Co...</td>\n",
       "    </tr>\n",
       "    <tr>\n",
       "      <th>4</th>\n",
       "      <td>IQ Capital CEO Keith Bliss says tech and healt...</td>\n",
       "      <td>4:24  PM ET Fri, 17 July 2020</td>\n",
       "      <td>Keith Bliss, IQ Capital CEO, joins \"Closing Be...</td>\n",
       "    </tr>\n",
       "  </tbody>\n",
       "</table>\n",
       "</div>"
      ],
      "text/plain": [
       "                                           Headlines  \\\n",
       "0  Jim Cramer: A better way to invest in the Covi...   \n",
       "1     Cramer's lightning round: I would own Teradyne   \n",
       "2                                                NaN   \n",
       "3  Cramer's week ahead: Big week for earnings, ev...   \n",
       "4  IQ Capital CEO Keith Bliss says tech and healt...   \n",
       "\n",
       "                             Time  \\\n",
       "0   7:51  PM ET Fri, 17 July 2020   \n",
       "1   7:33  PM ET Fri, 17 July 2020   \n",
       "2                             NaN   \n",
       "3   7:25  PM ET Fri, 17 July 2020   \n",
       "4   4:24  PM ET Fri, 17 July 2020   \n",
       "\n",
       "                                         Description  \n",
       "0  \"Mad Money\" host Jim Cramer recommended buying...  \n",
       "1  \"Mad Money\" host Jim Cramer rings the lightnin...  \n",
       "2                                                NaN  \n",
       "3  \"We'll pay more for the earnings of the non-Co...  \n",
       "4  Keith Bliss, IQ Capital CEO, joins \"Closing Be...  "
      ]
     },
     "execution_count": 3,
     "metadata": {},
     "output_type": "execute_result"
    }
   ],
   "source": [
    "df_cnbc = pd.read_csv('cnbc_headlines.csv')\n",
    "df_cnbc.head()"
   ]
  },
  {
   "cell_type": "markdown",
   "id": "46e19977",
   "metadata": {},
   "source": [
    "Check the shape of cnbc headline dataset"
   ]
  },
  {
   "cell_type": "code",
   "execution_count": 4,
   "id": "a34dea58",
   "metadata": {},
   "outputs": [
    {
     "data": {
      "text/plain": [
       "(3080, 3)"
      ]
     },
     "execution_count": 4,
     "metadata": {},
     "output_type": "execute_result"
    }
   ],
   "source": [
    "df_cnbc.shape\n"
   ]
  },
  {
   "cell_type": "markdown",
   "id": "5ac9ef60",
   "metadata": {},
   "source": [
    "Check all the columns in the cnbc headline dataset\n"
   ]
  },
  {
   "cell_type": "code",
   "execution_count": 5,
   "id": "dc7961f3",
   "metadata": {},
   "outputs": [
    {
     "data": {
      "text/plain": [
       "Index(['Headlines', 'Time', 'Description'], dtype='object')"
      ]
     },
     "execution_count": 5,
     "metadata": {},
     "output_type": "execute_result"
    }
   ],
   "source": [
    "df_cnbc.columns"
   ]
  },
  {
   "cell_type": "markdown",
   "id": "43835c19",
   "metadata": {},
   "source": [
    "Check which columns are having categorical, numerical or boolean values\n"
   ]
  },
  {
   "cell_type": "code",
   "execution_count": 6,
   "id": "014bc60b",
   "metadata": {},
   "outputs": [
    {
     "name": "stdout",
     "output_type": "stream",
     "text": [
      "<class 'pandas.core.frame.DataFrame'>\n",
      "RangeIndex: 3080 entries, 0 to 3079\n",
      "Data columns (total 3 columns):\n",
      " #   Column       Non-Null Count  Dtype \n",
      "---  ------       --------------  ----- \n",
      " 0   Headlines    2800 non-null   object\n",
      " 1   Time         2800 non-null   object\n",
      " 2   Description  2800 non-null   object\n",
      "dtypes: object(3)\n",
      "memory usage: 72.3+ KB\n"
     ]
    }
   ],
   "source": [
    "df_cnbc.info()"
   ]
  },
  {
   "cell_type": "markdown",
   "id": "db831cb4",
   "metadata": {},
   "source": [
    "Check for missing values in all the columnns of cnbc headline dataset\n"
   ]
  },
  {
   "cell_type": "code",
   "execution_count": 7,
   "id": "3d60b8e4",
   "metadata": {},
   "outputs": [
    {
     "data": {
      "text/plain": [
       "Headlines      280\n",
       "Time           280\n",
       "Description    280\n",
       "dtype: int64"
      ]
     },
     "execution_count": 7,
     "metadata": {},
     "output_type": "execute_result"
    }
   ],
   "source": [
    "df_cnbc.isnull().sum()"
   ]
  },
  {
   "cell_type": "markdown",
   "id": "0cf8dc1b",
   "metadata": {},
   "source": [
    "Observation:\n",
    "There is 280 missing values in headlines, description and time\n",
    "\n",
    "\n",
    "Drop nan values in cnbc headline dataset\n"
   ]
  },
  {
   "cell_type": "code",
   "execution_count": 8,
   "id": "8330ab45",
   "metadata": {},
   "outputs": [],
   "source": [
    "df_cnbc.dropna(inplace = True)"
   ]
  },
  {
   "cell_type": "markdown",
   "id": "9464f7e5",
   "metadata": {},
   "source": [
    "Drop the duplicate rows in the dataset keep the first one\n"
   ]
  },
  {
   "cell_type": "code",
   "execution_count": 9,
   "id": "352c73d8",
   "metadata": {},
   "outputs": [],
   "source": [
    "df_cnbc.drop_duplicates(keep = 'first', inplace=True)"
   ]
  },
  {
   "cell_type": "markdown",
   "id": "99673655",
   "metadata": {},
   "source": [
    "Check the shape of cnbc headline dataset\n"
   ]
  },
  {
   "cell_type": "code",
   "execution_count": 10,
   "id": "a0eb3539",
   "metadata": {},
   "outputs": [
    {
     "data": {
      "text/plain": [
       "(2800, 3)"
      ]
     },
     "execution_count": 10,
     "metadata": {},
     "output_type": "execute_result"
    }
   ],
   "source": [
    "df_cnbc.shape"
   ]
  },
  {
   "cell_type": "markdown",
   "id": "4df46467",
   "metadata": {},
   "source": [
    "Reset index\n"
   ]
  },
  {
   "cell_type": "code",
   "execution_count": 11,
   "id": "300fb28e",
   "metadata": {},
   "outputs": [],
   "source": [
    "df_cnbc.reset_index(drop = True, inplace = True)"
   ]
  },
  {
   "cell_type": "markdown",
   "id": "0f5bc84f",
   "metadata": {},
   "source": [
    "# Basic EDA on Gaurdian headlines dataset\n",
    "Read csv file of gaurdian headlines using pandas"
   ]
  },
  {
   "cell_type": "code",
   "execution_count": 12,
   "id": "0fb38a96",
   "metadata": {},
   "outputs": [
    {
     "data": {
      "text/html": [
       "<div>\n",
       "<style scoped>\n",
       "    .dataframe tbody tr th:only-of-type {\n",
       "        vertical-align: middle;\n",
       "    }\n",
       "\n",
       "    .dataframe tbody tr th {\n",
       "        vertical-align: top;\n",
       "    }\n",
       "\n",
       "    .dataframe thead th {\n",
       "        text-align: right;\n",
       "    }\n",
       "</style>\n",
       "<table border=\"1\" class=\"dataframe\">\n",
       "  <thead>\n",
       "    <tr style=\"text-align: right;\">\n",
       "      <th></th>\n",
       "      <th>Time</th>\n",
       "      <th>Headlines</th>\n",
       "    </tr>\n",
       "  </thead>\n",
       "  <tbody>\n",
       "    <tr>\n",
       "      <th>0</th>\n",
       "      <td>18-Jul-20</td>\n",
       "      <td>Johnson is asking Santa for a Christmas recovery</td>\n",
       "    </tr>\n",
       "    <tr>\n",
       "      <th>1</th>\n",
       "      <td>18-Jul-20</td>\n",
       "      <td>‘I now fear the worst’: four grim tales of wor...</td>\n",
       "    </tr>\n",
       "    <tr>\n",
       "      <th>2</th>\n",
       "      <td>18-Jul-20</td>\n",
       "      <td>Five key areas Sunak must tackle to serve up e...</td>\n",
       "    </tr>\n",
       "    <tr>\n",
       "      <th>3</th>\n",
       "      <td>18-Jul-20</td>\n",
       "      <td>Covid-19 leaves firms ‘fatally ill-prepared’ f...</td>\n",
       "    </tr>\n",
       "    <tr>\n",
       "      <th>4</th>\n",
       "      <td>18-Jul-20</td>\n",
       "      <td>The Week in Patriarchy  \\n\\n\\n  Bacardi's 'lad...</td>\n",
       "    </tr>\n",
       "  </tbody>\n",
       "</table>\n",
       "</div>"
      ],
      "text/plain": [
       "        Time                                          Headlines\n",
       "0  18-Jul-20   Johnson is asking Santa for a Christmas recovery\n",
       "1  18-Jul-20  ‘I now fear the worst’: four grim tales of wor...\n",
       "2  18-Jul-20  Five key areas Sunak must tackle to serve up e...\n",
       "3  18-Jul-20  Covid-19 leaves firms ‘fatally ill-prepared’ f...\n",
       "4  18-Jul-20  The Week in Patriarchy  \\n\\n\\n  Bacardi's 'lad..."
      ]
     },
     "execution_count": 12,
     "metadata": {},
     "output_type": "execute_result"
    }
   ],
   "source": [
    "df_guardian = pd.read_csv('guardian_headlines.csv')\n",
    "df_guardian.head()"
   ]
  },
  {
   "cell_type": "markdown",
   "id": "59fe994f",
   "metadata": {},
   "source": [
    "Check the shape of gaurdian headline dataset\n"
   ]
  },
  {
   "cell_type": "code",
   "execution_count": 13,
   "id": "33645dbe",
   "metadata": {},
   "outputs": [
    {
     "data": {
      "text/plain": [
       "(17800, 2)"
      ]
     },
     "execution_count": 13,
     "metadata": {},
     "output_type": "execute_result"
    }
   ],
   "source": [
    "df_guardian.shape"
   ]
  },
  {
   "cell_type": "markdown",
   "id": "21efd182",
   "metadata": {},
   "source": [
    "Check columns of gaurdian headline\n"
   ]
  },
  {
   "cell_type": "code",
   "execution_count": 14,
   "id": "62d4e3b9",
   "metadata": {},
   "outputs": [
    {
     "data": {
      "text/plain": [
       "Index(['Time', 'Headlines'], dtype='object')"
      ]
     },
     "execution_count": 14,
     "metadata": {},
     "output_type": "execute_result"
    }
   ],
   "source": [
    "df_guardian.columns"
   ]
  },
  {
   "cell_type": "markdown",
   "id": "79adf11d",
   "metadata": {},
   "source": [
    "Check which columns are having categorical, numerical or boolean values\n"
   ]
  },
  {
   "cell_type": "code",
   "execution_count": 15,
   "id": "c9f0f200",
   "metadata": {},
   "outputs": [
    {
     "name": "stdout",
     "output_type": "stream",
     "text": [
      "<class 'pandas.core.frame.DataFrame'>\n",
      "RangeIndex: 17800 entries, 0 to 17799\n",
      "Data columns (total 2 columns):\n",
      " #   Column     Non-Null Count  Dtype \n",
      "---  ------     --------------  ----- \n",
      " 0   Time       17800 non-null  object\n",
      " 1   Headlines  17800 non-null  object\n",
      "dtypes: object(2)\n",
      "memory usage: 278.3+ KB\n"
     ]
    }
   ],
   "source": [
    "df_guardian.info()"
   ]
  },
  {
   "cell_type": "markdown",
   "id": "e2e71a02",
   "metadata": {},
   "source": [
    "Check null values in gaurdian headlines dataset\n"
   ]
  },
  {
   "cell_type": "code",
   "execution_count": 16,
   "id": "1bacfa3e",
   "metadata": {},
   "outputs": [
    {
     "data": {
      "text/plain": [
       "Time         0\n",
       "Headlines    0\n",
       "dtype: int64"
      ]
     },
     "execution_count": 16,
     "metadata": {},
     "output_type": "execute_result"
    }
   ],
   "source": [
    "df_guardian.isnull().sum()"
   ]
  },
  {
   "cell_type": "markdown",
   "id": "a046280d",
   "metadata": {},
   "source": [
    "Drop duplicate rows in headlines and keep the first one\n"
   ]
  },
  {
   "cell_type": "code",
   "execution_count": 17,
   "id": "3af08e64",
   "metadata": {},
   "outputs": [],
   "source": [
    "df_guardian.drop_duplicates(keep = 'first', inplace = True)"
   ]
  },
  {
   "cell_type": "markdown",
   "id": "f1d846e5",
   "metadata": {},
   "source": [
    "Reset index\n"
   ]
  },
  {
   "cell_type": "code",
   "execution_count": 18,
   "id": "fe0b39c5",
   "metadata": {},
   "outputs": [],
   "source": [
    "df_guardian.reset_index(drop = True, inplace = True)"
   ]
  },
  {
   "cell_type": "markdown",
   "id": "0cc6f764",
   "metadata": {},
   "source": [
    "# Basic EDA on reuters headlines\n",
    "Read csv file of reuters headlines using using pandas"
   ]
  },
  {
   "cell_type": "code",
   "execution_count": 19,
   "id": "de0b4620",
   "metadata": {},
   "outputs": [
    {
     "data": {
      "text/html": [
       "<div>\n",
       "<style scoped>\n",
       "    .dataframe tbody tr th:only-of-type {\n",
       "        vertical-align: middle;\n",
       "    }\n",
       "\n",
       "    .dataframe tbody tr th {\n",
       "        vertical-align: top;\n",
       "    }\n",
       "\n",
       "    .dataframe thead th {\n",
       "        text-align: right;\n",
       "    }\n",
       "</style>\n",
       "<table border=\"1\" class=\"dataframe\">\n",
       "  <thead>\n",
       "    <tr style=\"text-align: right;\">\n",
       "      <th></th>\n",
       "      <th>Headlines</th>\n",
       "      <th>Time</th>\n",
       "      <th>Description</th>\n",
       "    </tr>\n",
       "  </thead>\n",
       "  <tbody>\n",
       "    <tr>\n",
       "      <th>0</th>\n",
       "      <td>TikTok considers London and other locations fo...</td>\n",
       "      <td>Jul 18 2020</td>\n",
       "      <td>TikTok has been in discussions with the UK gov...</td>\n",
       "    </tr>\n",
       "    <tr>\n",
       "      <th>1</th>\n",
       "      <td>Disney cuts ad spending on Facebook amid growi...</td>\n",
       "      <td>Jul 18 2020</td>\n",
       "      <td>Walt Disney  has become the latest company to ...</td>\n",
       "    </tr>\n",
       "    <tr>\n",
       "      <th>2</th>\n",
       "      <td>Trail of missing Wirecard executive leads to B...</td>\n",
       "      <td>Jul 18 2020</td>\n",
       "      <td>Former Wirecard  chief operating officer Jan M...</td>\n",
       "    </tr>\n",
       "    <tr>\n",
       "      <th>3</th>\n",
       "      <td>Twitter says attackers downloaded data from up...</td>\n",
       "      <td>Jul 18 2020</td>\n",
       "      <td>Twitter Inc said on Saturday that hackers were...</td>\n",
       "    </tr>\n",
       "    <tr>\n",
       "      <th>4</th>\n",
       "      <td>U.S. Republicans seek liability protections as...</td>\n",
       "      <td>Jul 17 2020</td>\n",
       "      <td>A battle in the U.S. Congress over a new coron...</td>\n",
       "    </tr>\n",
       "  </tbody>\n",
       "</table>\n",
       "</div>"
      ],
      "text/plain": [
       "                                           Headlines         Time  \\\n",
       "0  TikTok considers London and other locations fo...  Jul 18 2020   \n",
       "1  Disney cuts ad spending on Facebook amid growi...  Jul 18 2020   \n",
       "2  Trail of missing Wirecard executive leads to B...  Jul 18 2020   \n",
       "3  Twitter says attackers downloaded data from up...  Jul 18 2020   \n",
       "4  U.S. Republicans seek liability protections as...  Jul 17 2020   \n",
       "\n",
       "                                         Description  \n",
       "0  TikTok has been in discussions with the UK gov...  \n",
       "1  Walt Disney  has become the latest company to ...  \n",
       "2  Former Wirecard  chief operating officer Jan M...  \n",
       "3  Twitter Inc said on Saturday that hackers were...  \n",
       "4  A battle in the U.S. Congress over a new coron...  "
      ]
     },
     "execution_count": 19,
     "metadata": {},
     "output_type": "execute_result"
    }
   ],
   "source": [
    "df_reuters = pd.read_csv('reuters_headlines.csv')\n",
    "df_reuters.head()"
   ]
  },
  {
   "cell_type": "markdown",
   "id": "4d7a72b0",
   "metadata": {},
   "source": [
    "Check the shape of reuters headlines dataset\n"
   ]
  },
  {
   "cell_type": "code",
   "execution_count": 20,
   "id": "ace33f62",
   "metadata": {},
   "outputs": [
    {
     "data": {
      "text/plain": [
       "(32770, 3)"
      ]
     },
     "execution_count": 20,
     "metadata": {},
     "output_type": "execute_result"
    }
   ],
   "source": [
    "df_reuters.shape"
   ]
  },
  {
   "cell_type": "markdown",
   "id": "46e1a35e",
   "metadata": {},
   "source": [
    "Check the columns of reuters headline dataset\n"
   ]
  },
  {
   "cell_type": "code",
   "execution_count": 21,
   "id": "f49663f6",
   "metadata": {},
   "outputs": [
    {
     "data": {
      "text/plain": [
       "Index(['Headlines', 'Time', 'Description'], dtype='object')"
      ]
     },
     "execution_count": 21,
     "metadata": {},
     "output_type": "execute_result"
    }
   ],
   "source": [
    "df_reuters.columns"
   ]
  },
  {
   "cell_type": "markdown",
   "id": "b29e13d4",
   "metadata": {},
   "source": [
    "Check which columns are having categorical, numerical or boolean values\n"
   ]
  },
  {
   "cell_type": "code",
   "execution_count": 22,
   "id": "84b2a6fb",
   "metadata": {},
   "outputs": [
    {
     "name": "stdout",
     "output_type": "stream",
     "text": [
      "<class 'pandas.core.frame.DataFrame'>\n",
      "RangeIndex: 32770 entries, 0 to 32769\n",
      "Data columns (total 3 columns):\n",
      " #   Column       Non-Null Count  Dtype \n",
      "---  ------       --------------  ----- \n",
      " 0   Headlines    32770 non-null  object\n",
      " 1   Time         32770 non-null  object\n",
      " 2   Description  32770 non-null  object\n",
      "dtypes: object(3)\n",
      "memory usage: 768.2+ KB\n"
     ]
    }
   ],
   "source": [
    "df_reuters.info()"
   ]
  },
  {
   "cell_type": "markdown",
   "id": "4e91433d",
   "metadata": {},
   "source": [
    "Check for missing values in all the columnns of reuters headlines dataset\n"
   ]
  },
  {
   "cell_type": "code",
   "execution_count": 23,
   "id": "42afbdd6",
   "metadata": {},
   "outputs": [
    {
     "data": {
      "text/plain": [
       "Headlines      0\n",
       "Time           0\n",
       "Description    0\n",
       "dtype: int64"
      ]
     },
     "execution_count": 23,
     "metadata": {},
     "output_type": "execute_result"
    }
   ],
   "source": [
    "df_reuters.isnull().sum()"
   ]
  },
  {
   "cell_type": "markdown",
   "id": "55385ac3",
   "metadata": {},
   "source": [
    "Drop the duplicate rows in reuters headlines dataset and keep the first one\n"
   ]
  },
  {
   "cell_type": "code",
   "execution_count": 24,
   "id": "d3d007f1",
   "metadata": {},
   "outputs": [],
   "source": [
    "df_reuters.drop_duplicates(keep ='first', inplace = True)"
   ]
  },
  {
   "cell_type": "code",
   "execution_count": 25,
   "id": "ac89dcba",
   "metadata": {},
   "outputs": [],
   "source": [
    "df_reuters.reset_index(drop = True, inplace = True)"
   ]
  },
  {
   "cell_type": "markdown",
   "id": "7df84624",
   "metadata": {},
   "source": [
    "# SENTIMENT ANAYSIS\n",
    "Create a function for preprocessing\n"
   ]
  },
  {
   "cell_type": "code",
   "execution_count": 26,
   "id": "94ff9756",
   "metadata": {},
   "outputs": [],
   "source": [
    "def preprocess(x):\n",
    "    #convert all to lowercase\n",
    "    x = x.lower()\n",
    "    #remove puntuations\n",
    "    remove_punct = str.maketrans('', '', string.punctuation)\n",
    "    x = x.translate(remove_punct)\n",
    "    #remove stopword\n",
    "    stopwordslist = stopwords.words('english')\n",
    "    tokens = word_tokenize(x)\n",
    "    result = [w for w in tokens if not w in stopwordslist]\n",
    "    #stemming\n",
    "    ps = PorterStemmer()\n",
    "    stemwords = [ps.stem(w) for w in result]\n",
    "    #lemmitizing\n",
    "    lemmatizer = WordNetLemmatizer()\n",
    "    lemmawords = [lemmatizer.lemmatize(w) for w in stemwords]\n",
    "    return ( \" \".join(lemmawords))"
   ]
  },
  {
   "cell_type": "markdown",
   "id": "59e3c31d",
   "metadata": {},
   "source": [
    "Import sentiment intensity analyzer\n"
   ]
  },
  {
   "cell_type": "code",
   "execution_count": 27,
   "id": "2ea259ec",
   "metadata": {},
   "outputs": [
    {
     "name": "stderr",
     "output_type": "stream",
     "text": [
      "[nltk_data] Downloading package vader_lexicon to\n",
      "[nltk_data]     C:\\Users\\Dell\\AppData\\Roaming\\nltk_data...\n",
      "[nltk_data]   Package vader_lexicon is already up-to-date!\n"
     ]
    }
   ],
   "source": [
    "import nltk\n",
    "nltk.download('vader_lexicon')\n",
    "from nltk.sentiment.vader import SentimentIntensityAnalyzer\n",
    "# create sentiment intensity analyzer object\n",
    "sid = SentimentIntensityAnalyzer()"
   ]
  },
  {
   "cell_type": "markdown",
   "id": "fae0f9af",
   "metadata": {},
   "source": [
    "Create fuction to decide sentiment as positive, negative and neutral\n"
   ]
  },
  {
   "cell_type": "code",
   "execution_count": 28,
   "id": "2b2292ab",
   "metadata": {},
   "outputs": [],
   "source": [
    "def polarity(a):\n",
    "    return sid.polarity_scores(a)['compound']"
   ]
  },
  {
   "cell_type": "markdown",
   "id": "f965b63e",
   "metadata": {},
   "source": [
    "Concatenate cnbc headlines dataset and reuters headline dataset\n"
   ]
  },
  {
   "cell_type": "code",
   "execution_count": 29,
   "id": "7d2898fd",
   "metadata": {},
   "outputs": [],
   "source": [
    "df_concatened_d = pd.concat([df_cnbc, df_reuters], axis = 0)"
   ]
  },
  {
   "cell_type": "markdown",
   "id": "eab539b2",
   "metadata": {},
   "source": [
    "Check the shape of this new dataset\n"
   ]
  },
  {
   "cell_type": "code",
   "execution_count": 30,
   "id": "de84f006",
   "metadata": {},
   "outputs": [
    {
     "data": {
      "text/plain": [
       "(35515, 3)"
      ]
     },
     "execution_count": 30,
     "metadata": {},
     "output_type": "execute_result"
    }
   ],
   "source": [
    "df_concatened_d.shape"
   ]
  },
  {
   "cell_type": "markdown",
   "id": "89acf533",
   "metadata": {},
   "source": [
    "Make a copy of new dataset\n"
   ]
  },
  {
   "cell_type": "code",
   "execution_count": 31,
   "id": "746b8ba9",
   "metadata": {},
   "outputs": [],
   "source": [
    "df_concatened_d_copy = df_concatened_d.copy()"
   ]
  },
  {
   "cell_type": "markdown",
   "id": "17bb2ca1",
   "metadata": {},
   "source": [
    "Apply preprocessing to the description of new dataset\n"
   ]
  },
  {
   "cell_type": "code",
   "execution_count": 32,
   "id": "d1857aa4",
   "metadata": {},
   "outputs": [],
   "source": [
    "df_concatened_d['Description'] = df_concatened_d['Description'].apply(lambda x : preprocess(x))"
   ]
  },
  {
   "cell_type": "markdown",
   "id": "4f949bd8",
   "metadata": {},
   "source": [
    "Analyze polarity score of values in description and add new column of it in dataset\n"
   ]
  },
  {
   "cell_type": "code",
   "execution_count": 33,
   "id": "cc52a7b5",
   "metadata": {},
   "outputs": [],
   "source": [
    "df_concatened_d['ds_score'] = df_concatened_d['Description'].apply(lambda x: polarity(x))"
   ]
  },
  {
   "cell_type": "markdown",
   "id": "50a20ca1",
   "metadata": {},
   "source": [
    "Create a function which will assign sentiment based on polarity score\n"
   ]
  },
  {
   "cell_type": "code",
   "execution_count": 34,
   "id": "95ebbeff",
   "metadata": {},
   "outputs": [],
   "source": [
    "def assign_sentiment(x):\n",
    "    if x > 0:\n",
    "        return 'Positive'\n",
    "    if x < 0:\n",
    "        return 'Negative'\n",
    "    if x == 0:\n",
    "        return 'Neutral'"
   ]
  },
  {
   "cell_type": "markdown",
   "id": "de274be7",
   "metadata": {},
   "source": [
    "Apply the function which decides sentiment to polarity score column\n"
   ]
  },
  {
   "cell_type": "code",
   "execution_count": 35,
   "id": "effe2577",
   "metadata": {},
   "outputs": [],
   "source": [
    "df_concatened_d['ds_score'] = df_concatened_d['ds_score'].apply(lambda x : assign_sentiment(x))"
   ]
  },
  {
   "cell_type": "code",
   "execution_count": 36,
   "id": "5691a88e",
   "metadata": {},
   "outputs": [
    {
     "data": {
      "text/html": [
       "<div>\n",
       "<style scoped>\n",
       "    .dataframe tbody tr th:only-of-type {\n",
       "        vertical-align: middle;\n",
       "    }\n",
       "\n",
       "    .dataframe tbody tr th {\n",
       "        vertical-align: top;\n",
       "    }\n",
       "\n",
       "    .dataframe thead th {\n",
       "        text-align: right;\n",
       "    }\n",
       "</style>\n",
       "<table border=\"1\" class=\"dataframe\">\n",
       "  <thead>\n",
       "    <tr style=\"text-align: right;\">\n",
       "      <th></th>\n",
       "      <th>Headlines</th>\n",
       "      <th>Time</th>\n",
       "      <th>Description</th>\n",
       "      <th>ds_score</th>\n",
       "    </tr>\n",
       "  </thead>\n",
       "  <tbody>\n",
       "    <tr>\n",
       "      <th>0</th>\n",
       "      <td>Jim Cramer: A better way to invest in the Covi...</td>\n",
       "      <td>7:51  PM ET Fri, 17 July 2020</td>\n",
       "      <td>mad money host jim cramer recommend buy four c...</td>\n",
       "      <td>Positive</td>\n",
       "    </tr>\n",
       "    <tr>\n",
       "      <th>1</th>\n",
       "      <td>Cramer's lightning round: I would own Teradyne</td>\n",
       "      <td>7:33  PM ET Fri, 17 July 2020</td>\n",
       "      <td>mad money host jim cramer ring lightn round be...</td>\n",
       "      <td>Negative</td>\n",
       "    </tr>\n",
       "    <tr>\n",
       "      <th>2</th>\n",
       "      <td>Cramer's week ahead: Big week for earnings, ev...</td>\n",
       "      <td>7:25  PM ET Fri, 17 July 2020</td>\n",
       "      <td>well pay earn noncovid compani lancet publish ...</td>\n",
       "      <td>Positive</td>\n",
       "    </tr>\n",
       "    <tr>\n",
       "      <th>3</th>\n",
       "      <td>IQ Capital CEO Keith Bliss says tech and healt...</td>\n",
       "      <td>4:24  PM ET Fri, 17 July 2020</td>\n",
       "      <td>keith bliss iq capit ceo join close bell talk ...</td>\n",
       "      <td>Positive</td>\n",
       "    </tr>\n",
       "    <tr>\n",
       "      <th>4</th>\n",
       "      <td>Wall Street delivered the 'kind of pullback I'...</td>\n",
       "      <td>7:36  PM ET Thu, 16 July 2020</td>\n",
       "      <td>look stock highqual compani go lower even thou...</td>\n",
       "      <td>Negative</td>\n",
       "    </tr>\n",
       "  </tbody>\n",
       "</table>\n",
       "</div>"
      ],
      "text/plain": [
       "                                           Headlines  \\\n",
       "0  Jim Cramer: A better way to invest in the Covi...   \n",
       "1     Cramer's lightning round: I would own Teradyne   \n",
       "2  Cramer's week ahead: Big week for earnings, ev...   \n",
       "3  IQ Capital CEO Keith Bliss says tech and healt...   \n",
       "4  Wall Street delivered the 'kind of pullback I'...   \n",
       "\n",
       "                             Time  \\\n",
       "0   7:51  PM ET Fri, 17 July 2020   \n",
       "1   7:33  PM ET Fri, 17 July 2020   \n",
       "2   7:25  PM ET Fri, 17 July 2020   \n",
       "3   4:24  PM ET Fri, 17 July 2020   \n",
       "4   7:36  PM ET Thu, 16 July 2020   \n",
       "\n",
       "                                         Description  ds_score  \n",
       "0  mad money host jim cramer recommend buy four c...  Positive  \n",
       "1  mad money host jim cramer ring lightn round be...  Negative  \n",
       "2  well pay earn noncovid compani lancet publish ...  Positive  \n",
       "3  keith bliss iq capit ceo join close bell talk ...  Positive  \n",
       "4  look stock highqual compani go lower even thou...  Negative  "
      ]
     },
     "execution_count": 36,
     "metadata": {},
     "output_type": "execute_result"
    }
   ],
   "source": [
    "df_concatened_d.head()"
   ]
  },
  {
   "cell_type": "markdown",
   "id": "402995dd",
   "metadata": {},
   "source": [
    "Plot a count plot on description score column\n"
   ]
  },
  {
   "cell_type": "code",
   "execution_count": 43,
   "id": "1e7ec905",
   "metadata": {},
   "outputs": [
    {
     "data": {
      "image/png": "[encoded data removed]",
      "text/plain": [
       "<Figure size 640x480 with 1 Axes>"
      ]
     },
     "metadata": {},
     "output_type": "display_data"
    }
   ],
   "source": [
    "sns.countplot(x='ds_score', data=df_concatened_d)\n",
    "plt.show()"
   ]
  },
  {
   "cell_type": "markdown",
   "id": "b7f0c69b",
   "metadata": {},
   "source": [
    "Observation:\n",
    "\n",
    "Descriptions contains approximately:\n",
    "\n",
    "14000 positive statment\n",
    "\n",
    "12000 negative statment\n",
    "\n",
    "8000 neutral statment\n",
    "\n"
   ]
  },
  {
   "cell_type": "markdown",
   "id": "85518cbd",
   "metadata": {},
   "source": [
    "# Plot a pie plot on description score column"
   ]
  },
  {
   "cell_type": "code",
   "execution_count": 44,
   "id": "b08d068a",
   "metadata": {},
   "outputs": [
    {
     "data": {
      "text/plain": [
       "<matplotlib.legend.Legend at 0x18561300450>"
      ]
     },
     "execution_count": 44,
     "metadata": {},
     "output_type": "execute_result"
    },
    {
     "data": {
      "image/png": "[encoded data removed]",
      "text/plain": [
       "<Figure size 2000x500 with 1 Axes>"
      ]
     },
     "metadata": {},
     "output_type": "display_data"
    }
   ],
   "source": [
    "# define Seaborn color palette to use\n",
    "palette_color = sns.color_palette('bright')\n",
    "# plotting data on chart\n",
    "plt.figure(figsize = (20,5))\n",
    "plt.pie(df_concatened_d['ds_score'].value_counts(normalize = True), autopct='%.2f%%', colors=palette_color)\n",
    "plt.legend(['Positive', 'Negative', 'Neutral'])\n",
    "# displaying"
   ]
  },
  {
   "cell_type": "markdown",
   "id": "5f374532",
   "metadata": {},
   "source": [
    "Observation:\n",
    "    \n",
    "Descriptions contains:\n",
    "    \n",
    "42.43 % positive statments\n",
    "\n",
    "34.57 % negtive statements\n",
    "\n",
    "23.00 % neutral statments"
   ]
  },
  {
   "cell_type": "markdown",
   "id": "8d2f85ab",
   "metadata": {},
   "source": [
    "# Spliting in Independent and Dependent Features\n"
   ]
  },
  {
   "cell_type": "code",
   "execution_count": 46,
   "id": "2516a2d9",
   "metadata": {},
   "outputs": [],
   "source": [
    "X = df_concatened_d['Description']\n",
    "y = df_concatened_d['ds_score']"
   ]
  },
  {
   "cell_type": "markdown",
   "id": "ae8c2277",
   "metadata": {},
   "source": [
    "# Train test split\n",
    "\n",
    "Split the dataset into test and train\n",
    "90% train , 10% test and random state 212\n"
   ]
  },
  {
   "cell_type": "code",
   "execution_count": 47,
   "id": "4136d8cd",
   "metadata": {},
   "outputs": [],
   "source": [
    "X_train, X_test, y_train, y_test = train_test_split(X, y, test_size=0.10, random_state = 212)"
   ]
  },
  {
   "cell_type": "markdown",
   "id": "0ae73ab9",
   "metadata": {},
   "source": [
    "# Modelling on description of cnbc headlines dataset and reuters headline dataset on datasets\n"
   ]
  },
  {
   "cell_type": "code",
   "execution_count": 49,
   "id": "f642a676",
   "metadata": {},
   "outputs": [],
   "source": [
    "'''All Models'''\n",
    "models = {\n",
    "1 : make_pipeline(TfidfVectorizer(),LinearSVC(random_state=0, tol=1e-5)),\n",
    "2 : make_pipeline(CountVectorizer(),TfidfTransformer(),LogisticRegression()),\n",
    "3 : make_pipeline(CountVectorizer(),TfidfTransformer(),MultinomialNB()),\n",
    "4 : make_pipeline(CountVectorizer(),TfidfTransformer(),BernoulliNB()),\n",
    "5 : make_pipeline(CountVectorizer(),TfidfTransformer(),GradientBoostingClassifier()),\n",
    "6 : make_pipeline(CountVectorizer(),TfidfTransformer(),DecisionTreeClassifier()),\n",
    "7 : make_pipeline(CountVectorizer(),TfidfTransformer(),KNeighborsClassifier())\n",
    "}\n",
    "map_keys = list(models.keys())"
   ]
  },
  {
   "cell_type": "code",
   "execution_count": 52,
   "id": "b58f3e13",
   "metadata": {},
   "outputs": [],
   "source": [
    "def get_model_building_technique_name(num):\n",
    "    if num == 1:\n",
    "        return 'LinearSVC'\n",
    "    if num == 2:\n",
    "        return 'LogisticRegression'\n",
    "    if num == 3:\n",
    "        return 'MultinomialNB'\n",
    "    if num == 4:\n",
    "        return 'BernoulliNB'\n",
    "    if num == 5:\n",
    "        return 'GradientBoostingClassifier'\n",
    "    if num == 7:\n",
    "        return 'DecisionTreeClassifier'\n",
    "    if num == 8:\n",
    "        return 'KNeighborsClassifier'\n",
    "    return ''"
   ]
  },
  {
   "cell_type": "code",
   "execution_count": 53,
   "id": "c14a9d09",
   "metadata": {},
   "outputs": [
    {
     "name": "stdout",
     "output_type": "stream",
     "text": [
      "1\n",
      "2\n",
      "3\n",
      "4\n",
      "5\n",
      "6\n",
      "7\n"
     ]
    }
   ],
   "source": [
    "results = [];\n",
    "for key_index in range(len(map_keys)):\n",
    "    try:\n",
    "        key = map_keys[key_index]\n",
    "        model = models[key]\n",
    "        print(key)\n",
    "        model.fit(X_train, y_train)\n",
    "        '''Test Accuracy'''\n",
    "        y_pred = model.predict(X_test)\n",
    "        Accuracy_Test = accuracy_score(y_test, y_pred)\n",
    "        conf_mat_Test = confusion_matrix(y_test, y_pred)\n",
    "        true_positive_Test = conf_mat_Test[0][0]\n",
    "        false_positive_Test = conf_mat_Test[0][1]\n",
    "        false_negative_Test = conf_mat_Test[1][0]\n",
    "        true_negative__Test = conf_mat_Test[1][1]\n",
    "        Precision_Test = true_positive_Test /(true_positive_Test + false_positive_Test)\n",
    "        Recall_Test = true_positive_Test/(true_positive_Test + false_negative_Test)\n",
    "        F1_Score_Test = 2*(Recall_Test * Precision_Test) / (Recall_Test + Precision_Test)\n",
    "        # AUC_Test = roc_auc_score(y_test, y_pred)\n",
    "        '''Train Accuracy'''\n",
    "        y_pred_train = model.predict(X_train)\n",
    "        Accuracy_Train = accuracy_score(y_train, y_pred_train)\n",
    "        conf_mat_Train = confusion_matrix(y_train, y_pred_train)\n",
    "        true_positive_Train = conf_mat_Train[0][0]\n",
    "        false_positive_Train = conf_mat_Train[0][1]\n",
    "        false_negative_Train = conf_mat_Train[1][0]\n",
    "        true_negative__Train = conf_mat_Train[1][1]\n",
    "        Precision_Train = true_positive_Train /(true_positive_Train + false_positive_Train)\n",
    "        Recall_Train = true_positive_Train/(true_positive_Train + false_negative_Train)\n",
    "        F1_Score_Train = 2*(Recall_Train * Precision_Train) / (Recall_Train + Precision_Train)\n",
    "        # AUC_Train = roc_auc_score(y_train, y_pred_train)\n",
    "        results.append({\n",
    "            'Model Name' : get_model_building_technique_name(key),\n",
    "            'Trained Model' : model,\n",
    "            'Accuracy_Test' : Accuracy_Test,\n",
    "            'Precision_Test' : Precision_Test,\n",
    "            'Recall_Test' : Recall_Test, \n",
    "            'F1_Score_Test' : F1_Score_Test, \n",
    "       # 'AUC_Test' : AUC_Test,\n",
    "            'Accuracy_Train' : Accuracy_Train,\n",
    "            'Precision_Train' : Precision_Train,\n",
    "            'Recall_Train' : Recall_Train, \n",
    "            'F1_Score_Train' : F1_Score_Train \n",
    "       # 'AUC_Train' : AUC_Train\n",
    "            })\n",
    "    except:\n",
    "        print('Error')"
   ]
  },
  {
   "cell_type": "code",
   "execution_count": 54,
   "id": "2e1be92d",
   "metadata": {},
   "outputs": [
    {
     "data": {
      "text/html": [
       "<div>\n",
       "<style scoped>\n",
       "    .dataframe tbody tr th:only-of-type {\n",
       "        vertical-align: middle;\n",
       "    }\n",
       "\n",
       "    .dataframe tbody tr th {\n",
       "        vertical-align: top;\n",
       "    }\n",
       "\n",
       "    .dataframe thead th {\n",
       "        text-align: right;\n",
       "    }\n",
       "</style>\n",
       "<table border=\"1\" class=\"dataframe\">\n",
       "  <thead>\n",
       "    <tr style=\"text-align: right;\">\n",
       "      <th></th>\n",
       "      <th>Model Name</th>\n",
       "      <th>Trained Model</th>\n",
       "      <th>Accuracy_Test</th>\n",
       "      <th>Precision_Test</th>\n",
       "      <th>Recall_Test</th>\n",
       "      <th>F1_Score_Test</th>\n",
       "      <th>Accuracy_Train</th>\n",
       "      <th>Precision_Train</th>\n",
       "      <th>Recall_Train</th>\n",
       "      <th>F1_Score_Train</th>\n",
       "      <th>difference_f1_score</th>\n",
       "    </tr>\n",
       "  </thead>\n",
       "  <tbody>\n",
       "    <tr>\n",
       "      <th>0</th>\n",
       "      <td>LinearSVC</td>\n",
       "      <td>(TfidfVectorizer(), LinearSVC(random_state=0, ...</td>\n",
       "      <td>0.932151</td>\n",
       "      <td>0.961407</td>\n",
       "      <td>0.981611</td>\n",
       "      <td>0.971404</td>\n",
       "      <td>0.987141</td>\n",
       "      <td>0.997710</td>\n",
       "      <td>0.992799</td>\n",
       "      <td>0.995248</td>\n",
       "      <td>0.023844</td>\n",
       "    </tr>\n",
       "    <tr>\n",
       "      <th>1</th>\n",
       "      <td>LogisticRegression</td>\n",
       "      <td>(CountVectorizer(), TfidfTransformer(), Logist...</td>\n",
       "      <td>0.894426</td>\n",
       "      <td>0.932921</td>\n",
       "      <td>0.967949</td>\n",
       "      <td>0.950112</td>\n",
       "      <td>0.953477</td>\n",
       "      <td>0.975598</td>\n",
       "      <td>0.986421</td>\n",
       "      <td>0.980980</td>\n",
       "      <td>0.030867</td>\n",
       "    </tr>\n",
       "    <tr>\n",
       "      <th>2</th>\n",
       "      <td>MultinomialNB</td>\n",
       "      <td>(CountVectorizer(), TfidfTransformer(), Multin...</td>\n",
       "      <td>0.639921</td>\n",
       "      <td>0.990196</td>\n",
       "      <td>0.843424</td>\n",
       "      <td>0.910936</td>\n",
       "      <td>0.716516</td>\n",
       "      <td>0.994617</td>\n",
       "      <td>0.871009</td>\n",
       "      <td>0.928718</td>\n",
       "      <td>0.017783</td>\n",
       "    </tr>\n",
       "    <tr>\n",
       "      <th>3</th>\n",
       "      <td>BernoulliNB</td>\n",
       "      <td>(CountVectorizer(), TfidfTransformer(), Bernou...</td>\n",
       "      <td>0.739302</td>\n",
       "      <td>0.942564</td>\n",
       "      <td>0.871090</td>\n",
       "      <td>0.905419</td>\n",
       "      <td>0.827019</td>\n",
       "      <td>0.960318</td>\n",
       "      <td>0.919350</td>\n",
       "      <td>0.939388</td>\n",
       "      <td>0.033969</td>\n",
       "    </tr>\n",
       "    <tr>\n",
       "      <th>4</th>\n",
       "      <td>GradientBoostingClassifier</td>\n",
       "      <td>(CountVectorizer(), TfidfTransformer(), ([Deci...</td>\n",
       "      <td>0.838401</td>\n",
       "      <td>0.841016</td>\n",
       "      <td>0.987845</td>\n",
       "      <td>0.908537</td>\n",
       "      <td>0.845165</td>\n",
       "      <td>0.843538</td>\n",
       "      <td>0.992635</td>\n",
       "      <td>0.912033</td>\n",
       "      <td>0.003497</td>\n",
       "    </tr>\n",
       "    <tr>\n",
       "      <th>5</th>\n",
       "      <td></td>\n",
       "      <td>(CountVectorizer(), TfidfTransformer(), Decisi...</td>\n",
       "      <td>0.875845</td>\n",
       "      <td>0.983607</td>\n",
       "      <td>0.986460</td>\n",
       "      <td>0.985031</td>\n",
       "      <td>1.000000</td>\n",
       "      <td>1.000000</td>\n",
       "      <td>1.000000</td>\n",
       "      <td>1.000000</td>\n",
       "      <td>0.014969</td>\n",
       "    </tr>\n",
       "    <tr>\n",
       "      <th>6</th>\n",
       "      <td>DecisionTreeClassifier</td>\n",
       "      <td>(CountVectorizer(), TfidfTransformer(), KNeigh...</td>\n",
       "      <td>0.550957</td>\n",
       "      <td>0.827586</td>\n",
       "      <td>0.761194</td>\n",
       "      <td>0.793003</td>\n",
       "      <td>0.707537</td>\n",
       "      <td>0.900781</td>\n",
       "      <td>0.836995</td>\n",
       "      <td>0.867717</td>\n",
       "      <td>0.074714</td>\n",
       "    </tr>\n",
       "  </tbody>\n",
       "</table>\n",
       "</div>"
      ],
      "text/plain": [
       "                   Model Name  \\\n",
       "0                   LinearSVC   \n",
       "1          LogisticRegression   \n",
       "2               MultinomialNB   \n",
       "3                 BernoulliNB   \n",
       "4  GradientBoostingClassifier   \n",
       "5                               \n",
       "6      DecisionTreeClassifier   \n",
       "\n",
       "                                       Trained Model  Accuracy_Test  \\\n",
       "0  (TfidfVectorizer(), LinearSVC(random_state=0, ...       0.932151   \n",
       "1  (CountVectorizer(), TfidfTransformer(), Logist...       0.894426   \n",
       "2  (CountVectorizer(), TfidfTransformer(), Multin...       0.639921   \n",
       "3  (CountVectorizer(), TfidfTransformer(), Bernou...       0.739302   \n",
       "4  (CountVectorizer(), TfidfTransformer(), ([Deci...       0.838401   \n",
       "5  (CountVectorizer(), TfidfTransformer(), Decisi...       0.875845   \n",
       "6  (CountVectorizer(), TfidfTransformer(), KNeigh...       0.550957   \n",
       "\n",
       "   Precision_Test  Recall_Test  F1_Score_Test  Accuracy_Train  \\\n",
       "0        0.961407     0.981611       0.971404        0.987141   \n",
       "1        0.932921     0.967949       0.950112        0.953477   \n",
       "2        0.990196     0.843424       0.910936        0.716516   \n",
       "3        0.942564     0.871090       0.905419        0.827019   \n",
       "4        0.841016     0.987845       0.908537        0.845165   \n",
       "5        0.983607     0.986460       0.985031        1.000000   \n",
       "6        0.827586     0.761194       0.793003        0.707537   \n",
       "\n",
       "   Precision_Train  Recall_Train  F1_Score_Train  difference_f1_score  \n",
       "0         0.997710      0.992799        0.995248             0.023844  \n",
       "1         0.975598      0.986421        0.980980             0.030867  \n",
       "2         0.994617      0.871009        0.928718             0.017783  \n",
       "3         0.960318      0.919350        0.939388             0.033969  \n",
       "4         0.843538      0.992635        0.912033             0.003497  \n",
       "5         1.000000      1.000000        1.000000             0.014969  \n",
       "6         0.900781      0.836995        0.867717             0.074714  "
      ]
     },
     "execution_count": 54,
     "metadata": {},
     "output_type": "execute_result"
    }
   ],
   "source": [
    "result_df = pd.DataFrame(results)\n",
    "result_df['difference_f1_score'] = abs(result_df['F1_Score_Test'] - result_df['F1_Score_Train'])\n",
    "# result_df_test = result_df.iloc[: , [0,2,3,4,5]]\n",
    "# result_df_train = result_df.iloc[: , [0,6,7,8,9]]\n",
    "result_df"
   ]
  },
  {
   "cell_type": "markdown",
   "id": "626f1897",
   "metadata": {},
   "source": [
    "Save best model\n"
   ]
  },
  {
   "cell_type": "code",
   "execution_count": 55,
   "id": "e42d5bea",
   "metadata": {},
   "outputs": [],
   "source": [
    "Best_Model_Name = result_df[result_df['difference_f1_score'] == min(result_df['difference_f1_score'])]['Trained Model'].values[0]\n",
    "import pickle\n",
    "with open('financial_news_model_d.sav', 'wb') as best_model_pickle:\n",
    "    pickle.dump(Best_Model_Name, best_model_pickle)"
   ]
  },
  {
   "cell_type": "markdown",
   "id": "3b45aad5",
   "metadata": {},
   "source": [
    "# Working with test dataset\n",
    "Perforn the prediction on the test dataset\n"
   ]
  },
  {
   "cell_type": "code",
   "execution_count": 56,
   "id": "b9ccc94c",
   "metadata": {},
   "outputs": [
    {
     "data": {
      "text/html": [
       "<div>\n",
       "<style scoped>\n",
       "    .dataframe tbody tr th:only-of-type {\n",
       "        vertical-align: middle;\n",
       "    }\n",
       "\n",
       "    .dataframe tbody tr th {\n",
       "        vertical-align: top;\n",
       "    }\n",
       "\n",
       "    .dataframe thead th {\n",
       "        text-align: right;\n",
       "    }\n",
       "</style>\n",
       "<table border=\"1\" class=\"dataframe\">\n",
       "  <thead>\n",
       "    <tr style=\"text-align: right;\">\n",
       "      <th></th>\n",
       "      <th>0</th>\n",
       "    </tr>\n",
       "  </thead>\n",
       "  <tbody>\n",
       "    <tr>\n",
       "      <th>0</th>\n",
       "      <td>Negative</td>\n",
       "    </tr>\n",
       "    <tr>\n",
       "      <th>1</th>\n",
       "      <td>Neutral</td>\n",
       "    </tr>\n",
       "    <tr>\n",
       "      <th>2</th>\n",
       "      <td>Neutral</td>\n",
       "    </tr>\n",
       "    <tr>\n",
       "      <th>3</th>\n",
       "      <td>Positive</td>\n",
       "    </tr>\n",
       "    <tr>\n",
       "      <th>4</th>\n",
       "      <td>Neutral</td>\n",
       "    </tr>\n",
       "    <tr>\n",
       "      <th>...</th>\n",
       "      <td>...</td>\n",
       "    </tr>\n",
       "    <tr>\n",
       "      <th>3547</th>\n",
       "      <td>Negative</td>\n",
       "    </tr>\n",
       "    <tr>\n",
       "      <th>3548</th>\n",
       "      <td>Positive</td>\n",
       "    </tr>\n",
       "    <tr>\n",
       "      <th>3549</th>\n",
       "      <td>Neutral</td>\n",
       "    </tr>\n",
       "    <tr>\n",
       "      <th>3550</th>\n",
       "      <td>Positive</td>\n",
       "    </tr>\n",
       "    <tr>\n",
       "      <th>3551</th>\n",
       "      <td>Neutral</td>\n",
       "    </tr>\n",
       "  </tbody>\n",
       "</table>\n",
       "<p>3552 rows × 1 columns</p>\n",
       "</div>"
      ],
      "text/plain": [
       "             0\n",
       "0     Negative\n",
       "1      Neutral\n",
       "2      Neutral\n",
       "3     Positive\n",
       "4      Neutral\n",
       "...        ...\n",
       "3547  Negative\n",
       "3548  Positive\n",
       "3549   Neutral\n",
       "3550  Positive\n",
       "3551   Neutral\n",
       "\n",
       "[3552 rows x 1 columns]"
      ]
     },
     "execution_count": 56,
     "metadata": {},
     "output_type": "execute_result"
    }
   ],
   "source": [
    "loaded_model_cr = pickle.load(open('financial_news_model_d.sav', 'rb'))\n",
    "result = loaded_model_cr.predict(X_test)\n",
    "pd.DataFrame(result)"
   ]
  },
  {
   "cell_type": "markdown",
   "id": "7fc7dcf1",
   "metadata": {},
   "source": [
    "# Working with headlines + description of cnbc and reuters datasets\n",
    "Creating copy of orifioriginalngal"
   ]
  },
  {
   "cell_type": "code",
   "execution_count": 57,
   "id": "ed96ebea",
   "metadata": {},
   "outputs": [],
   "source": [
    "df_concatened_d_copied = df_concatened_d.copy()"
   ]
  },
  {
   "cell_type": "markdown",
   "id": "846ef227",
   "metadata": {},
   "source": [
    " Merge headlines and description of new dataset and name it info\n"
   ]
  },
  {
   "cell_type": "code",
   "execution_count": 58,
   "id": "a996138a",
   "metadata": {},
   "outputs": [],
   "source": [
    "df_concatened_d['info'] = df_concatened_d['Headlines'] + ' ' + df_concatened_d['Description']"
   ]
  },
  {
   "cell_type": "markdown",
   "id": "477ed08c",
   "metadata": {},
   "source": [
    "Only keep info and time column . drop all remaining columns\n"
   ]
  },
  {
   "cell_type": "code",
   "execution_count": 59,
   "id": "783ed155",
   "metadata": {},
   "outputs": [],
   "source": [
    "df_concatened_d.drop(['Headlines', 'Description', 'ds_score'], axis = 1, inplace = True)"
   ]
  },
  {
   "cell_type": "markdown",
   "id": "0b08efbf",
   "metadata": {},
   "source": [
    "Apply preprocessing on info column\n"
   ]
  },
  {
   "cell_type": "code",
   "execution_count": 60,
   "id": "1ba62eb6",
   "metadata": {},
   "outputs": [],
   "source": [
    "df_concatened_d['info'] = df_concatened_d['info'].apply(lambda x : preprocess(x))"
   ]
  },
  {
   "cell_type": "markdown",
   "id": "823ec7e9",
   "metadata": {},
   "source": [
    "Analyze polarity score of values in info and add new column of it in dataset\n"
   ]
  },
  {
   "cell_type": "code",
   "execution_count": 61,
   "id": "2bc7d8f2",
   "metadata": {},
   "outputs": [],
   "source": [
    "df_concatened_d['ds_score_info'] = df_concatened_d['info'].apply(lambda x: polarity(x))"
   ]
  },
  {
   "cell_type": "markdown",
   "id": "91ef2762",
   "metadata": {},
   "source": [
    "Apply the function which decides sentiment to polarity score column\n"
   ]
  },
  {
   "cell_type": "code",
   "execution_count": 62,
   "id": "ed335f8b",
   "metadata": {},
   "outputs": [],
   "source": [
    "df_concatened_d['ds_score_info'] = df_concatened_d['ds_score_info'].apply(lambda x : assign_sentiment(x))"
   ]
  },
  {
   "cell_type": "code",
   "execution_count": 63,
   "id": "4fa4d558",
   "metadata": {},
   "outputs": [
    {
     "data": {
      "text/html": [
       "<div>\n",
       "<style scoped>\n",
       "    .dataframe tbody tr th:only-of-type {\n",
       "        vertical-align: middle;\n",
       "    }\n",
       "\n",
       "    .dataframe tbody tr th {\n",
       "        vertical-align: top;\n",
       "    }\n",
       "\n",
       "    .dataframe thead th {\n",
       "        text-align: right;\n",
       "    }\n",
       "</style>\n",
       "<table border=\"1\" class=\"dataframe\">\n",
       "  <thead>\n",
       "    <tr style=\"text-align: right;\">\n",
       "      <th></th>\n",
       "      <th>Time</th>\n",
       "      <th>info</th>\n",
       "      <th>ds_score_info</th>\n",
       "    </tr>\n",
       "  </thead>\n",
       "  <tbody>\n",
       "    <tr>\n",
       "      <th>0</th>\n",
       "      <td>7:51  PM ET Fri, 17 July 2020</td>\n",
       "      <td>jim cramer better way invest covid19 vaccin go...</td>\n",
       "      <td>Positive</td>\n",
       "    </tr>\n",
       "    <tr>\n",
       "      <th>1</th>\n",
       "      <td>7:33  PM ET Fri, 17 July 2020</td>\n",
       "      <td>cramer lightn round would teradyn mad money ho...</td>\n",
       "      <td>Negative</td>\n",
       "    </tr>\n",
       "    <tr>\n",
       "      <th>2</th>\n",
       "      <td>7:25  PM ET Fri, 17 July 2020</td>\n",
       "      <td>cramer week ahead big week earn even bigger we...</td>\n",
       "      <td>Positive</td>\n",
       "    </tr>\n",
       "    <tr>\n",
       "      <th>3</th>\n",
       "      <td>4:24  PM ET Fri, 17 July 2020</td>\n",
       "      <td>iq capit ceo keith bliss say tech healthcar ra...</td>\n",
       "      <td>Positive</td>\n",
       "    </tr>\n",
       "    <tr>\n",
       "      <th>4</th>\n",
       "      <td>7:36  PM ET Thu, 16 July 2020</td>\n",
       "      <td>wall street deliv kind pullback ive wait jim c...</td>\n",
       "      <td>Negative</td>\n",
       "    </tr>\n",
       "  </tbody>\n",
       "</table>\n",
       "</div>"
      ],
      "text/plain": [
       "                             Time  \\\n",
       "0   7:51  PM ET Fri, 17 July 2020   \n",
       "1   7:33  PM ET Fri, 17 July 2020   \n",
       "2   7:25  PM ET Fri, 17 July 2020   \n",
       "3   4:24  PM ET Fri, 17 July 2020   \n",
       "4   7:36  PM ET Thu, 16 July 2020   \n",
       "\n",
       "                                                info ds_score_info  \n",
       "0  jim cramer better way invest covid19 vaccin go...      Positive  \n",
       "1  cramer lightn round would teradyn mad money ho...      Negative  \n",
       "2  cramer week ahead big week earn even bigger we...      Positive  \n",
       "3  iq capit ceo keith bliss say tech healthcar ra...      Positive  \n",
       "4  wall street deliv kind pullback ive wait jim c...      Negative  "
      ]
     },
     "execution_count": 63,
     "metadata": {},
     "output_type": "execute_result"
    }
   ],
   "source": [
    "df_concatened_d.head()"
   ]
  },
  {
   "cell_type": "markdown",
   "id": "628023d1",
   "metadata": {},
   "source": [
    "Create a count plot on info_score column\n"
   ]
  },
  {
   "cell_type": "code",
   "execution_count": 64,
   "id": "f1af0629",
   "metadata": {},
   "outputs": [
    {
     "data": {
      "text/plain": [
       "<Axes: xlabel='ds_score_info', ylabel='count'>"
      ]
     },
     "execution_count": 64,
     "metadata": {},
     "output_type": "execute_result"
    },
    {
     "data": {
      "image/png": "[encoded data removed]",
      "text/plain": [
       "<Figure size 640x480 with 1 Axes>"
      ]
     },
     "metadata": {},
     "output_type": "display_data"
    }
   ],
   "source": [
    "sns.countplot(x='ds_score_info', data=df_concatened_d)"
   ]
  },
  {
   "cell_type": "markdown",
   "id": "cdbb9fca",
   "metadata": {},
   "source": [
    "Observation:\n",
    "    \n",
    "Headlines & Descriptions contains approximatley:\n",
    "\n",
    "15500 positive statment\n",
    "\n",
    "13000 negative statment\n",
    "\n",
    "6500 neutral statment\n"
   ]
  },
  {
   "cell_type": "markdown",
   "id": "65f099aa",
   "metadata": {},
   "source": [
    "# Create a pie chart on info_score column\n"
   ]
  },
  {
   "cell_type": "code",
   "execution_count": 65,
   "id": "31eb0654",
   "metadata": {},
   "outputs": [
    {
     "data": {
      "image/png": "[encoded data removed]",
      "text/plain": [
       "<Figure size 2000x500 with 1 Axes>"
      ]
     },
     "metadata": {},
     "output_type": "display_data"
    }
   ],
   "source": [
    "# plotting data on chart\n",
    "plt.figure(figsize = (20,5))\n",
    "plt.pie(df_concatened_d['ds_score_info'].value_counts(normalize = True), autopct='%.2f%%')\n",
    "plt.legend(['Positive', 'Negative', 'Neutral'])\n",
    "# displaying chart\n",
    "plt.show()"
   ]
  },
  {
   "cell_type": "markdown",
   "id": "32e9a603",
   "metadata": {},
   "source": [
    "Observation:\n",
    "    \n",
    "Headlines & Descriptions contains:\n",
    "    \n",
    "44.5 % positive statments\n",
    "\n",
    "38.36 % negtive statements\n",
    "\n",
    "17.10 % neutral statments\n"
   ]
  },
  {
   "cell_type": "markdown",
   "id": "5af2a52f",
   "metadata": {},
   "source": [
    "# Spliting in Independent and Dependent Features\n"
   ]
  },
  {
   "cell_type": "code",
   "execution_count": 66,
   "id": "79ca1839",
   "metadata": {},
   "outputs": [],
   "source": [
    "X = df_concatened_d['info']\n",
    "y = df_concatened_d['ds_score_info']"
   ]
  },
  {
   "cell_type": "markdown",
   "id": "ffa839b0",
   "metadata": {},
   "source": [
    "# Train test split\n",
    "Split the dataset into test and train\n",
    "90% train , 10% test and random state 212"
   ]
  },
  {
   "cell_type": "code",
   "execution_count": 67,
   "id": "39774aa0",
   "metadata": {},
   "outputs": [],
   "source": [
    "X_train, X_test, y_train, y_test = train_test_split(X, y, test_size=0.10, random_state = 212)"
   ]
  },
  {
   "cell_type": "markdown",
   "id": "b8e9f322",
   "metadata": {},
   "source": [
    "# Modelling on headlines + description of cnbc and reuters datasets\n"
   ]
  },
  {
   "cell_type": "code",
   "execution_count": 69,
   "id": "a315b871",
   "metadata": {},
   "outputs": [],
   "source": [
    "'''All Models'''\n",
    "models = {\n",
    "1 : make_pipeline(TfidfVectorizer(),LinearSVC(random_state=0, tol=1e-5)),\n",
    "2 : make_pipeline(CountVectorizer(),TfidfTransformer(),LogisticRegression()),\n",
    "3 : make_pipeline(CountVectorizer(),TfidfTransformer(),MultinomialNB()),\n",
    "4 : make_pipeline(CountVectorizer(),TfidfTransformer(),BernoulliNB()),\n",
    "5 : make_pipeline(CountVectorizer(),TfidfTransformer(),GradientBoostingClassifier()),\n",
    "6 : make_pipeline(CountVectorizer(),TfidfTransformer(),DecisionTreeClassifier()),\n",
    "7 : make_pipeline(CountVectorizer(),TfidfTransformer(),KNeighborsClassifier())\n",
    "}\n",
    "map_keys = list(models.keys())"
   ]
  },
  {
   "cell_type": "code",
   "execution_count": 70,
   "id": "75810fa2",
   "metadata": {},
   "outputs": [],
   "source": [
    "def get_model_building_technique_name(num):\n",
    "    if num == 1:\n",
    "        return 'LinearSVC'\n",
    "    if num == 2:\n",
    "        return 'LogisticRegression'\n",
    "    if num == 3:\n",
    "        return 'MultinomialNB'\n",
    "    if num == 4:\n",
    "        return 'BernoulliNB'\n",
    "    if num == 5:\n",
    "        return 'GradientBoostingClassifier'\n",
    "    if num == 6:\n",
    "        return 'DecisionTreeClassifier'\n",
    "    if num == 7:\n",
    "        return 'KNeighborsClassifier'\n",
    "    return ''\n"
   ]
  },
  {
   "cell_type": "code",
   "execution_count": 72,
   "id": "a8438601",
   "metadata": {},
   "outputs": [
    {
     "name": "stdout",
     "output_type": "stream",
     "text": [
      "1\n",
      "2\n",
      "3\n",
      "4\n",
      "5\n",
      "6\n",
      "7\n"
     ]
    }
   ],
   "source": [
    "results = [];\n",
    "for key_index in range(len(map_keys)):\n",
    "    try:\n",
    "        key = map_keys[key_index]\n",
    "        model = models[key]\n",
    "        print(key)\n",
    "        model.fit(X_train, y_train)\n",
    "        '''Test Accuracy'''\n",
    "        y_pred = model.predict(X_test)\n",
    "        Accuracy_Test = accuracy_score(y_test, y_pred)\n",
    "        conf_mat_Test = confusion_matrix(y_test, y_pred)\n",
    "        true_positive_Test = conf_mat_Test[0][0]\n",
    "        false_positive_Test = conf_mat_Test[0][1]\n",
    "        false_negative_Test = conf_mat_Test[1][0]\n",
    "        true_negative__Test = conf_mat_Test[1][1]\n",
    "        Precision_Test = true_positive_Test /(true_positive_Test + false_positive_Test)\n",
    "        Recall_Test = true_positive_Test/(true_positive_Test + false_negative_Test)\n",
    "        F1_Score_Test = 2*(Recall_Test * Precision_Test) / (Recall_Test + Precision_Test)\n",
    "   # AUC_Test = roc_auc_score(y_test, y_pred)\n",
    "        '''Train Accuracy'''\n",
    "        y_pred_train = model.predict(X_train)\n",
    "        Accuracy_Train = accuracy_score(y_train, y_pred_train)\n",
    "        conf_mat_Train = confusion_matrix(y_train, y_pred_train)\n",
    "        true_positive_Train = conf_mat_Train[0][0]\n",
    "        false_positive_Train = conf_mat_Train[0][1]\n",
    "        false_negative_Train = conf_mat_Train[1][0]\n",
    "        true_negative__Train = conf_mat_Train[1][1]\n",
    "        Precision_Train = true_positive_Train /(true_positive_Train + false_positive_Train)\n",
    "        Recall_Train = true_positive_Train/(true_positive_Train + false_negative_Train)\n",
    "        F1_Score_Train = 2*(Recall_Train * Precision_Train) / (Recall_Train + Precision_Train)\n",
    "   # AUC_Train = roc_auc_score(y_train, y_pred_train)\n",
    "        results.append({\n",
    "           'Model Name' : get_model_building_technique_name(key),\n",
    "           'Trained Model' : model,\n",
    "           'Accuracy_Test' : Accuracy_Test,\n",
    "           'Precision_Test' : Precision_Test,\n",
    "           'Recall_Test' : Recall_Test, \n",
    "           'F1_Score_Test' : F1_Score_Test, \n",
    "       # 'AUC_Test' : AUC_Test,\n",
    "           'Accuracy_Train' : Accuracy_Train,\n",
    "           'Precision_Train' : Precision_Train,\n",
    "           'Recall_Train' : Recall_Train, \n",
    "           'F1_Score_Train' : F1_Score_Train \n",
    "       # 'AUC_Train' : AUC_Train\n",
    "           })\n",
    "    except:\n",
    "        print('Error')   "
   ]
  },
  {
   "cell_type": "code",
   "execution_count": 73,
   "id": "2175afea",
   "metadata": {},
   "outputs": [
    {
     "data": {
      "text/html": [
       "<div>\n",
       "<style scoped>\n",
       "    .dataframe tbody tr th:only-of-type {\n",
       "        vertical-align: middle;\n",
       "    }\n",
       "\n",
       "    .dataframe tbody tr th {\n",
       "        vertical-align: top;\n",
       "    }\n",
       "\n",
       "    .dataframe thead th {\n",
       "        text-align: right;\n",
       "    }\n",
       "</style>\n",
       "<table border=\"1\" class=\"dataframe\">\n",
       "  <thead>\n",
       "    <tr style=\"text-align: right;\">\n",
       "      <th></th>\n",
       "      <th>Model Name</th>\n",
       "      <th>Trained Model</th>\n",
       "      <th>Accuracy_Test</th>\n",
       "      <th>Precision_Test</th>\n",
       "      <th>Recall_Test</th>\n",
       "      <th>F1_Score_Test</th>\n",
       "      <th>Accuracy_Train</th>\n",
       "      <th>Precision_Train</th>\n",
       "      <th>Recall_Train</th>\n",
       "      <th>F1_Score_Train</th>\n",
       "      <th>difference_f1_score</th>\n",
       "    </tr>\n",
       "  </thead>\n",
       "  <tbody>\n",
       "    <tr>\n",
       "      <th>0</th>\n",
       "      <td>LinearSVC</td>\n",
       "      <td>(TfidfVectorizer(), LinearSVC(random_state=0, ...</td>\n",
       "      <td>0.901464</td>\n",
       "      <td>0.961875</td>\n",
       "      <td>0.968026</td>\n",
       "      <td>0.964940</td>\n",
       "      <td>0.983950</td>\n",
       "      <td>0.998019</td>\n",
       "      <td>0.993263</td>\n",
       "      <td>0.995635</td>\n",
       "      <td>0.030695</td>\n",
       "    </tr>\n",
       "    <tr>\n",
       "      <th>1</th>\n",
       "      <td>LogisticRegression</td>\n",
       "      <td>(CountVectorizer(), TfidfTransformer(), Logist...</td>\n",
       "      <td>0.871059</td>\n",
       "      <td>0.963533</td>\n",
       "      <td>0.936220</td>\n",
       "      <td>0.949681</td>\n",
       "      <td>0.939899</td>\n",
       "      <td>0.985091</td>\n",
       "      <td>0.975645</td>\n",
       "      <td>0.980345</td>\n",
       "      <td>0.030665</td>\n",
       "    </tr>\n",
       "    <tr>\n",
       "      <th>2</th>\n",
       "      <td>MultinomialNB</td>\n",
       "      <td>(CountVectorizer(), TfidfTransformer(), Multin...</td>\n",
       "      <td>0.668919</td>\n",
       "      <td>1.000000</td>\n",
       "      <td>0.855864</td>\n",
       "      <td>0.922335</td>\n",
       "      <td>0.717486</td>\n",
       "      <td>0.999682</td>\n",
       "      <td>0.867905</td>\n",
       "      <td>0.929145</td>\n",
       "      <td>0.006810</td>\n",
       "    </tr>\n",
       "    <tr>\n",
       "      <th>3</th>\n",
       "      <td>BernoulliNB</td>\n",
       "      <td>(CountVectorizer(), TfidfTransformer(), Bernou...</td>\n",
       "      <td>0.719313</td>\n",
       "      <td>0.955366</td>\n",
       "      <td>0.878603</td>\n",
       "      <td>0.915378</td>\n",
       "      <td>0.811032</td>\n",
       "      <td>0.968690</td>\n",
       "      <td>0.929815</td>\n",
       "      <td>0.948855</td>\n",
       "      <td>0.033477</td>\n",
       "    </tr>\n",
       "    <tr>\n",
       "      <th>4</th>\n",
       "      <td>GradientBoostingClassifier</td>\n",
       "      <td>(CountVectorizer(), TfidfTransformer(), ([Deci...</td>\n",
       "      <td>0.724944</td>\n",
       "      <td>0.976378</td>\n",
       "      <td>0.995984</td>\n",
       "      <td>0.986083</td>\n",
       "      <td>0.741044</td>\n",
       "      <td>0.982784</td>\n",
       "      <td>0.992914</td>\n",
       "      <td>0.987823</td>\n",
       "      <td>0.001740</td>\n",
       "    </tr>\n",
       "    <tr>\n",
       "      <th>5</th>\n",
       "      <td>DecisionTreeClassifier</td>\n",
       "      <td>(CountVectorizer(), TfidfTransformer(), Decisi...</td>\n",
       "      <td>0.825732</td>\n",
       "      <td>0.967890</td>\n",
       "      <td>0.982309</td>\n",
       "      <td>0.975046</td>\n",
       "      <td>1.000000</td>\n",
       "      <td>1.000000</td>\n",
       "      <td>1.000000</td>\n",
       "      <td>1.000000</td>\n",
       "      <td>0.024954</td>\n",
       "    </tr>\n",
       "    <tr>\n",
       "      <th>6</th>\n",
       "      <td>KNeighborsClassifier</td>\n",
       "      <td>(CountVectorizer(), TfidfTransformer(), KNeigh...</td>\n",
       "      <td>0.562218</td>\n",
       "      <td>0.881373</td>\n",
       "      <td>0.798401</td>\n",
       "      <td>0.837838</td>\n",
       "      <td>0.703407</td>\n",
       "      <td>0.937659</td>\n",
       "      <td>0.850832</td>\n",
       "      <td>0.892138</td>\n",
       "      <td>0.054300</td>\n",
       "    </tr>\n",
       "  </tbody>\n",
       "</table>\n",
       "</div>"
      ],
      "text/plain": [
       "                   Model Name  \\\n",
       "0                   LinearSVC   \n",
       "1          LogisticRegression   \n",
       "2               MultinomialNB   \n",
       "3                 BernoulliNB   \n",
       "4  GradientBoostingClassifier   \n",
       "5      DecisionTreeClassifier   \n",
       "6        KNeighborsClassifier   \n",
       "\n",
       "                                       Trained Model  Accuracy_Test  \\\n",
       "0  (TfidfVectorizer(), LinearSVC(random_state=0, ...       0.901464   \n",
       "1  (CountVectorizer(), TfidfTransformer(), Logist...       0.871059   \n",
       "2  (CountVectorizer(), TfidfTransformer(), Multin...       0.668919   \n",
       "3  (CountVectorizer(), TfidfTransformer(), Bernou...       0.719313   \n",
       "4  (CountVectorizer(), TfidfTransformer(), ([Deci...       0.724944   \n",
       "5  (CountVectorizer(), TfidfTransformer(), Decisi...       0.825732   \n",
       "6  (CountVectorizer(), TfidfTransformer(), KNeigh...       0.562218   \n",
       "\n",
       "   Precision_Test  Recall_Test  F1_Score_Test  Accuracy_Train  \\\n",
       "0        0.961875     0.968026       0.964940        0.983950   \n",
       "1        0.963533     0.936220       0.949681        0.939899   \n",
       "2        1.000000     0.855864       0.922335        0.717486   \n",
       "3        0.955366     0.878603       0.915378        0.811032   \n",
       "4        0.976378     0.995984       0.986083        0.741044   \n",
       "5        0.967890     0.982309       0.975046        1.000000   \n",
       "6        0.881373     0.798401       0.837838        0.703407   \n",
       "\n",
       "   Precision_Train  Recall_Train  F1_Score_Train  difference_f1_score  \n",
       "0         0.998019      0.993263        0.995635             0.030695  \n",
       "1         0.985091      0.975645        0.980345             0.030665  \n",
       "2         0.999682      0.867905        0.929145             0.006810  \n",
       "3         0.968690      0.929815        0.948855             0.033477  \n",
       "4         0.982784      0.992914        0.987823             0.001740  \n",
       "5         1.000000      1.000000        1.000000             0.024954  \n",
       "6         0.937659      0.850832        0.892138             0.054300  "
      ]
     },
     "execution_count": 73,
     "metadata": {},
     "output_type": "execute_result"
    }
   ],
   "source": [
    "result_df = pd.DataFrame(results)\n",
    "result_df['difference_f1_score'] = abs(result_df['F1_Score_Test'] - result_df['F1_Score_Train'])\n",
    "# result_df_test = result_df.iloc[: , [0,2,3,4,5]]\n",
    "# result_df_train = result_df.iloc[: , [0,6,7,8,9]]\n",
    "result_df"
   ]
  },
  {
   "cell_type": "markdown",
   "id": "75682de7",
   "metadata": {},
   "source": [
    "Save Best Model\n"
   ]
  },
  {
   "cell_type": "code",
   "execution_count": 74,
   "id": "81402f57",
   "metadata": {},
   "outputs": [],
   "source": [
    "Best_Model_Name = result_df[result_df['difference_f1_score'] == min(result_df['difference_f1_score'])]['Trained Model'].values[0]\n",
    "import pickle\n",
    "with open('financial_news_model_hd.sav', 'wb') as best_model_pickle:\n",
    "    pickle.dump(Best_Model_Name, best_model_pickle)"
   ]
  },
  {
   "cell_type": "markdown",
   "id": "fbd13e4a",
   "metadata": {},
   "source": [
    "# Working with test dataset\n",
    "Perforn the prediction on the test dataset\n"
   ]
  },
  {
   "cell_type": "code",
   "execution_count": 75,
   "id": "b1efc7ca",
   "metadata": {},
   "outputs": [
    {
     "data": {
      "text/html": [
       "<div>\n",
       "<style scoped>\n",
       "    .dataframe tbody tr th:only-of-type {\n",
       "        vertical-align: middle;\n",
       "    }\n",
       "\n",
       "    .dataframe tbody tr th {\n",
       "        vertical-align: top;\n",
       "    }\n",
       "\n",
       "    .dataframe thead th {\n",
       "        text-align: right;\n",
       "    }\n",
       "</style>\n",
       "<table border=\"1\" class=\"dataframe\">\n",
       "  <thead>\n",
       "    <tr style=\"text-align: right;\">\n",
       "      <th></th>\n",
       "      <th>0</th>\n",
       "    </tr>\n",
       "  </thead>\n",
       "  <tbody>\n",
       "    <tr>\n",
       "      <th>0</th>\n",
       "      <td>Negative</td>\n",
       "    </tr>\n",
       "    <tr>\n",
       "      <th>1</th>\n",
       "      <td>Negative</td>\n",
       "    </tr>\n",
       "    <tr>\n",
       "      <th>2</th>\n",
       "      <td>Positive</td>\n",
       "    </tr>\n",
       "    <tr>\n",
       "      <th>3</th>\n",
       "      <td>Positive</td>\n",
       "    </tr>\n",
       "    <tr>\n",
       "      <th>4</th>\n",
       "      <td>Positive</td>\n",
       "    </tr>\n",
       "    <tr>\n",
       "      <th>...</th>\n",
       "      <td>...</td>\n",
       "    </tr>\n",
       "    <tr>\n",
       "      <th>3547</th>\n",
       "      <td>Negative</td>\n",
       "    </tr>\n",
       "    <tr>\n",
       "      <th>3548</th>\n",
       "      <td>Positive</td>\n",
       "    </tr>\n",
       "    <tr>\n",
       "      <th>3549</th>\n",
       "      <td>Positive</td>\n",
       "    </tr>\n",
       "    <tr>\n",
       "      <th>3550</th>\n",
       "      <td>Positive</td>\n",
       "    </tr>\n",
       "    <tr>\n",
       "      <th>3551</th>\n",
       "      <td>Positive</td>\n",
       "    </tr>\n",
       "  </tbody>\n",
       "</table>\n",
       "<p>3552 rows × 1 columns</p>\n",
       "</div>"
      ],
      "text/plain": [
       "             0\n",
       "0     Negative\n",
       "1     Negative\n",
       "2     Positive\n",
       "3     Positive\n",
       "4     Positive\n",
       "...        ...\n",
       "3547  Negative\n",
       "3548  Positive\n",
       "3549  Positive\n",
       "3550  Positive\n",
       "3551  Positive\n",
       "\n",
       "[3552 rows x 1 columns]"
      ]
     },
     "execution_count": 75,
     "metadata": {},
     "output_type": "execute_result"
    }
   ],
   "source": [
    "# Perforn the prediction on the test dataset\n",
    "best_model_hd = pickle.load(open('financial_news_model_hd.sav', 'rb'))\n",
    "result = best_model_hd.predict(X_test)\n",
    "pd.DataFrame(result)"
   ]
  },
  {
   "cell_type": "markdown",
   "id": "4f0a3836",
   "metadata": {},
   "source": [
    "# Working on headlines of cnbc, reuters and guardian datasets\n",
    "From the dataset you have copied before delete the column of description\n"
   ]
  },
  {
   "cell_type": "code",
   "execution_count": 76,
   "id": "1c732ea4",
   "metadata": {},
   "outputs": [],
   "source": [
    "df_concatened_d_copied = df_concatened_d_copied.drop(['Description'], axis = 1)\n",
    "df_concatened_d_copied = df_concatened_d_copied.drop(['ds_score'], axis = 1)"
   ]
  },
  {
   "cell_type": "markdown",
   "id": "e833c3dd",
   "metadata": {},
   "source": [
    "Concatenate the gaurdian headlines dataset and copy of dataset to get all headlines together\n"
   ]
  },
  {
   "cell_type": "code",
   "execution_count": 77,
   "id": "06d5935c",
   "metadata": {},
   "outputs": [],
   "source": [
    "df_concatened_h = pd.concat([df_guardian,df_concatened_d_copied], axis = 0).reset_index(drop = True)"
   ]
  },
  {
   "cell_type": "markdown",
   "id": "282bcc02",
   "metadata": {},
   "source": [
    "Check the shape of all headlines dataset\n"
   ]
  },
  {
   "cell_type": "code",
   "execution_count": 78,
   "id": "48149974",
   "metadata": {},
   "outputs": [
    {
     "data": {
      "text/plain": [
       "(53315, 2)"
      ]
     },
     "execution_count": 78,
     "metadata": {},
     "output_type": "execute_result"
    }
   ],
   "source": [
    "df_concatened_h.shape"
   ]
  },
  {
   "cell_type": "markdown",
   "id": "1df1d0b6",
   "metadata": {},
   "source": [
    "Apply preprocessing to the headlines column in the new dataset\n"
   ]
  },
  {
   "cell_type": "code",
   "execution_count": 79,
   "id": "632419ca",
   "metadata": {},
   "outputs": [
    {
     "data": {
      "text/html": [
       "<div>\n",
       "<style scoped>\n",
       "    .dataframe tbody tr th:only-of-type {\n",
       "        vertical-align: middle;\n",
       "    }\n",
       "\n",
       "    .dataframe tbody tr th {\n",
       "        vertical-align: top;\n",
       "    }\n",
       "\n",
       "    .dataframe thead th {\n",
       "        text-align: right;\n",
       "    }\n",
       "</style>\n",
       "<table border=\"1\" class=\"dataframe\">\n",
       "  <thead>\n",
       "    <tr style=\"text-align: right;\">\n",
       "      <th></th>\n",
       "      <th>Time</th>\n",
       "      <th>Headlines</th>\n",
       "    </tr>\n",
       "  </thead>\n",
       "  <tbody>\n",
       "    <tr>\n",
       "      <th>0</th>\n",
       "      <td>18-Jul-20</td>\n",
       "      <td>johnson ask santa christma recoveri</td>\n",
       "    </tr>\n",
       "    <tr>\n",
       "      <th>1</th>\n",
       "      <td>18-Jul-20</td>\n",
       "      <td>‘ fear worst ’ four grim tale work life upend ...</td>\n",
       "    </tr>\n",
       "    <tr>\n",
       "      <th>2</th>\n",
       "      <td>18-Jul-20</td>\n",
       "      <td>five key area sunak must tackl serv econom rec...</td>\n",
       "    </tr>\n",
       "    <tr>\n",
       "      <th>3</th>\n",
       "      <td>18-Jul-20</td>\n",
       "      <td>covid19 leav firm ‘ fatal illprepar ’ nodeal b...</td>\n",
       "    </tr>\n",
       "    <tr>\n",
       "      <th>4</th>\n",
       "      <td>18-Jul-20</td>\n",
       "      <td>week patriarchi bacardi ladi vodka latest long...</td>\n",
       "    </tr>\n",
       "  </tbody>\n",
       "</table>\n",
       "</div>"
      ],
      "text/plain": [
       "        Time                                          Headlines\n",
       "0  18-Jul-20                johnson ask santa christma recoveri\n",
       "1  18-Jul-20  ‘ fear worst ’ four grim tale work life upend ...\n",
       "2  18-Jul-20  five key area sunak must tackl serv econom rec...\n",
       "3  18-Jul-20  covid19 leav firm ‘ fatal illprepar ’ nodeal b...\n",
       "4  18-Jul-20  week patriarchi bacardi ladi vodka latest long..."
      ]
     },
     "execution_count": 79,
     "metadata": {},
     "output_type": "execute_result"
    }
   ],
   "source": [
    "df_concatened_h['Headlines'] = df_concatened_h['Headlines'].apply(lambda x : preprocess(x))\n",
    "df_concatened_h.head()"
   ]
  },
  {
   "cell_type": "markdown",
   "id": "1cb6eed0",
   "metadata": {},
   "source": [
    "Analyze polarity score of values in headlines and add new column of it in dataset\n"
   ]
  },
  {
   "cell_type": "code",
   "execution_count": 80,
   "id": "bb3382af",
   "metadata": {},
   "outputs": [],
   "source": [
    "df_concatened_h['ds_score_headlines'] = df_concatened_h['Headlines'].apply(lambda x: polarity(x))"
   ]
  },
  {
   "cell_type": "markdown",
   "id": "77d5ec6b",
   "metadata": {},
   "source": [
    "Apply the function which decides sentiment to polarity score column\n"
   ]
  },
  {
   "cell_type": "code",
   "execution_count": 81,
   "id": "cfc5926c",
   "metadata": {},
   "outputs": [],
   "source": [
    "df_concatened_h['ds_score_headlines'] = df_concatened_h['ds_score_headlines'].apply(lambda x : assign_sentiment(x))"
   ]
  },
  {
   "cell_type": "code",
   "execution_count": 82,
   "id": "0206313d",
   "metadata": {},
   "outputs": [
    {
     "data": {
      "text/html": [
       "<div>\n",
       "<style scoped>\n",
       "    .dataframe tbody tr th:only-of-type {\n",
       "        vertical-align: middle;\n",
       "    }\n",
       "\n",
       "    .dataframe tbody tr th {\n",
       "        vertical-align: top;\n",
       "    }\n",
       "\n",
       "    .dataframe thead th {\n",
       "        text-align: right;\n",
       "    }\n",
       "</style>\n",
       "<table border=\"1\" class=\"dataframe\">\n",
       "  <thead>\n",
       "    <tr style=\"text-align: right;\">\n",
       "      <th></th>\n",
       "      <th>Time</th>\n",
       "      <th>Headlines</th>\n",
       "      <th>ds_score_headlines</th>\n",
       "    </tr>\n",
       "  </thead>\n",
       "  <tbody>\n",
       "    <tr>\n",
       "      <th>0</th>\n",
       "      <td>18-Jul-20</td>\n",
       "      <td>johnson ask santa christma recoveri</td>\n",
       "      <td>Neutral</td>\n",
       "    </tr>\n",
       "    <tr>\n",
       "      <th>1</th>\n",
       "      <td>18-Jul-20</td>\n",
       "      <td>‘ fear worst ’ four grim tale work life upend ...</td>\n",
       "      <td>Negative</td>\n",
       "    </tr>\n",
       "    <tr>\n",
       "      <th>2</th>\n",
       "      <td>18-Jul-20</td>\n",
       "      <td>five key area sunak must tackl serv econom rec...</td>\n",
       "      <td>Neutral</td>\n",
       "    </tr>\n",
       "    <tr>\n",
       "      <th>3</th>\n",
       "      <td>18-Jul-20</td>\n",
       "      <td>covid19 leav firm ‘ fatal illprepar ’ nodeal b...</td>\n",
       "      <td>Negative</td>\n",
       "    </tr>\n",
       "    <tr>\n",
       "      <th>4</th>\n",
       "      <td>18-Jul-20</td>\n",
       "      <td>week patriarchi bacardi ladi vodka latest long...</td>\n",
       "      <td>Negative</td>\n",
       "    </tr>\n",
       "  </tbody>\n",
       "</table>\n",
       "</div>"
      ],
      "text/plain": [
       "        Time                                          Headlines  \\\n",
       "0  18-Jul-20                johnson ask santa christma recoveri   \n",
       "1  18-Jul-20  ‘ fear worst ’ four grim tale work life upend ...   \n",
       "2  18-Jul-20  five key area sunak must tackl serv econom rec...   \n",
       "3  18-Jul-20  covid19 leav firm ‘ fatal illprepar ’ nodeal b...   \n",
       "4  18-Jul-20  week patriarchi bacardi ladi vodka latest long...   \n",
       "\n",
       "  ds_score_headlines  \n",
       "0            Neutral  \n",
       "1           Negative  \n",
       "2            Neutral  \n",
       "3           Negative  \n",
       "4           Negative  "
      ]
     },
     "execution_count": 82,
     "metadata": {},
     "output_type": "execute_result"
    }
   ],
   "source": [
    "df_concatened_h.head()"
   ]
  },
  {
   "cell_type": "markdown",
   "id": "90459742",
   "metadata": {},
   "source": [
    "# Create a countplot on headline score column\n"
   ]
  },
  {
   "cell_type": "code",
   "execution_count": 83,
   "id": "025a4b3b",
   "metadata": {},
   "outputs": [
    {
     "data": {
      "text/plain": [
       "<Axes: xlabel='ds_score_headlines', ylabel='count'>"
      ]
     },
     "execution_count": 83,
     "metadata": {},
     "output_type": "execute_result"
    },
    {
     "data": {
      "image/png": "[encoded data removed]",
      "text/plain": [
       "<Figure size 640x480 with 1 Axes>"
      ]
     },
     "metadata": {},
     "output_type": "display_data"
    }
   ],
   "source": [
    "sns.countplot(x='ds_score_headlines', data=df_concatened_h)"
   ]
  },
  {
   "cell_type": "markdown",
   "id": "7707c851",
   "metadata": {},
   "source": [
    "Observation:\n",
    "\n",
    "Headlines contains approximately:\n",
    "\n",
    "14000 positive statment\n",
    "\n",
    "16000 negative statment\n",
    "\n",
    "24000 neutral statment\n"
   ]
  },
  {
   "cell_type": "markdown",
   "id": "456098b3",
   "metadata": {},
   "source": [
    "# Create a pie digram on headline score column\n"
   ]
  },
  {
   "cell_type": "code",
   "execution_count": 84,
   "id": "bd4b30d5",
   "metadata": {},
   "outputs": [
    {
     "data": {
      "image/png": "[encoded data removed]",
      "text/plain": [
       "<Figure size 2000x500 with 1 Axes>"
      ]
     },
     "metadata": {},
     "output_type": "display_data"
    }
   ],
   "source": [
    "# plotting data on chart\n",
    "plt.figure(figsize = (20,5))\n",
    "plt.pie(df_concatened_h['ds_score_headlines'].value_counts(normalize = True), autopct='%.2f%%')\n",
    "plt.legend(['Positive', 'Negative', 'Neutral'])\n",
    "# displaying chart\n",
    "plt.show()"
   ]
  },
  {
   "cell_type": "markdown",
   "id": "62fa0ad2",
   "metadata": {},
   "source": [
    "Observation:\n",
    "\n",
    "Headlines contains:\n",
    "\n",
    "24.8% positive statments\n",
    "\n",
    "30.3% negtive statements\n",
    "\n",
    "44.9% neutral statments\n"
   ]
  },
  {
   "cell_type": "markdown",
   "id": "9db7eed4",
   "metadata": {},
   "source": [
    "# Spliting in Independent and Dependent Features\n"
   ]
  },
  {
   "cell_type": "code",
   "execution_count": 85,
   "id": "117b79d4",
   "metadata": {},
   "outputs": [],
   "source": [
    "X = df_concatened_h['Headlines']\n",
    "y = df_concatened_h['ds_score_headlines']"
   ]
  },
  {
   "cell_type": "markdown",
   "id": "c562be91",
   "metadata": {},
   "source": [
    "# Train test split\n",
    "Split the dataset into test and train\n",
    "90% train , 10% test and random state 212\n"
   ]
  },
  {
   "cell_type": "code",
   "execution_count": 86,
   "id": "f5259511",
   "metadata": {},
   "outputs": [],
   "source": [
    "X_train, X_test, y_train, y_test = train_test_split(X, y, test_size=0.10, random_state = 212)"
   ]
  },
  {
   "cell_type": "markdown",
   "id": "fa00c4fc",
   "metadata": {},
   "source": [
    "Modeling on headlines\n"
   ]
  },
  {
   "cell_type": "code",
   "execution_count": 87,
   "id": "a2a39d41",
   "metadata": {},
   "outputs": [],
   "source": [
    "'''All Models'''\n",
    "models = {\n",
    "1 : make_pipeline(TfidfVectorizer(),LinearSVC(random_state=0, tol=1e-5)),\n",
    "2 : make_pipeline(CountVectorizer(),TfidfTransformer(),LogisticRegression()),\n",
    "3 : make_pipeline(CountVectorizer(),TfidfTransformer(),MultinomialNB()),\n",
    "4 : make_pipeline(CountVectorizer(),TfidfTransformer(),BernoulliNB()),\n",
    "5 : make_pipeline(CountVectorizer(),TfidfTransformer(),GradientBoostingClassifier()),\n",
    "6 : make_pipeline(CountVectorizer(),TfidfTransformer(),DecisionTreeClassifier()),\n",
    "7 : make_pipeline(CountVectorizer(),TfidfTransformer(),KNeighborsClassifier())\n",
    "}\n",
    "map_keys = list(models.keys())\n"
   ]
  },
  {
   "cell_type": "code",
   "execution_count": 88,
   "id": "c76a00d5",
   "metadata": {},
   "outputs": [],
   "source": [
    "def get_model_building_technique_name(num):\n",
    "    if num == 1:\n",
    "        return 'LinearSVC'\n",
    "    if num == 2:\n",
    "        return 'LogisticRegression'\n",
    "    if num == 3:\n",
    "        return 'MultinomialNB'\n",
    "    if num == 4:\n",
    "        return 'BernoulliNB'\n",
    "    if num == 5:\n",
    "        return 'GradientBoostingClassifier'\n",
    "    if num == 6:\n",
    "        return 'DecisionTreeClassifier'\n",
    "    if num == 7:\n",
    "        return 'KNeighborsClassifier'\n",
    "    return ''"
   ]
  },
  {
   "cell_type": "code",
   "execution_count": 89,
   "id": "d4c34dca",
   "metadata": {},
   "outputs": [
    {
     "name": "stdout",
     "output_type": "stream",
     "text": [
      "1\n",
      "2\n",
      "3\n",
      "4\n",
      "5\n",
      "6\n",
      "7\n"
     ]
    }
   ],
   "source": [
    "results = [];\n",
    "for key_index in range(len(map_keys)):\n",
    "    try:\n",
    "        key = map_keys[key_index]\n",
    "        model = models[key]\n",
    "        print(key)\n",
    "        model.fit(X_train, y_train)\n",
    "        '''Test Accuracy'''\n",
    "        y_pred = model.predict(X_test)\n",
    "        Accuracy_Test = accuracy_score(y_test, y_pred)\n",
    "        conf_mat_Test = confusion_matrix(y_test, y_pred)\n",
    "        true_positive_Test = conf_mat_Test[0][0]\n",
    "        false_positive_Test = conf_mat_Test[0][1]\n",
    "        false_negative_Test = conf_mat_Test[1][0]\n",
    "        true_negative__Test = conf_mat_Test[1][1]\n",
    "        Precision_Test = true_positive_Test /(true_positive_Test + false_positive_Test)\n",
    "        Recall_Test = true_positive_Test/(true_positive_Test + false_negative_Test)\n",
    "        F1_Score_Test = 2*(Recall_Test * Precision_Test) / (Recall_Test + Precision_Test)\n",
    "        # AUC_Test = roc_auc_score(y_test, y_pred)\n",
    "        '''Train Accuracy'''\n",
    "        y_pred_train = model.predict(X_train)\n",
    "        Accuracy_Train = accuracy_score(y_train, y_pred_train)\n",
    "        conf_mat_Train = confusion_matrix(y_train, y_pred_train)\n",
    "        true_positive_Train = conf_mat_Train[0][0]\n",
    "        false_positive_Train = conf_mat_Train[0][1]\n",
    "        false_negative_Train = conf_mat_Train[1][0]\n",
    "        true_negative__Train = conf_mat_Train[1][1]\n",
    "        Precision_Train = true_positive_Train /(true_positive_Train + false_positive_Train)\n",
    "        Recall_Train = true_positive_Train/(true_positive_Train + false_negative_Train)\n",
    "        F1_Score_Train = 2*(Recall_Train * Precision_Train) / (Recall_Train + Precision_Train)\n",
    "        # AUC_Train = roc_auc_score(y_train, y_pred_train)\n",
    "        results.append({\n",
    "            'Model Name' : get_model_building_technique_name(key),\n",
    "            'Trained Model' : model,\n",
    "            'Accuracy_Test' : Accuracy_Test,\n",
    "            'Precision_Test' : Precision_Test,\n",
    "            'Recall_Test' : Recall_Test, \n",
    "            'F1_Score_Test' : F1_Score_Test, \n",
    "       # 'AUC_Test' : AUC_Test,\n",
    "            'Accuracy_Train' : Accuracy_Train,\n",
    "            'Precision_Train' : Precision_Train,\n",
    "            'Recall_Train' : Recall_Train, \n",
    "            'F1_Score_Train' : F1_Score_Train \n",
    "       # 'AUC_Train' : AUC_Train\n",
    "            })\n",
    "    except:\n",
    "        print('Error')"
   ]
  },
  {
   "cell_type": "code",
   "execution_count": 90,
   "id": "17c98bfa",
   "metadata": {},
   "outputs": [
    {
     "data": {
      "text/html": [
       "<div>\n",
       "<style scoped>\n",
       "    .dataframe tbody tr th:only-of-type {\n",
       "        vertical-align: middle;\n",
       "    }\n",
       "\n",
       "    .dataframe tbody tr th {\n",
       "        vertical-align: top;\n",
       "    }\n",
       "\n",
       "    .dataframe thead th {\n",
       "        text-align: right;\n",
       "    }\n",
       "</style>\n",
       "<table border=\"1\" class=\"dataframe\">\n",
       "  <thead>\n",
       "    <tr style=\"text-align: right;\">\n",
       "      <th></th>\n",
       "      <th>Model Name</th>\n",
       "      <th>Trained Model</th>\n",
       "      <th>Accuracy_Test</th>\n",
       "      <th>Precision_Test</th>\n",
       "      <th>Recall_Test</th>\n",
       "      <th>F1_Score_Test</th>\n",
       "      <th>Accuracy_Train</th>\n",
       "      <th>Precision_Train</th>\n",
       "      <th>Recall_Train</th>\n",
       "      <th>F1_Score_Train</th>\n",
       "      <th>difference_f1_score</th>\n",
       "    </tr>\n",
       "  </thead>\n",
       "  <tbody>\n",
       "    <tr>\n",
       "      <th>0</th>\n",
       "      <td>LinearSVC</td>\n",
       "      <td>(TfidfVectorizer(), LinearSVC(random_state=0, ...</td>\n",
       "      <td>0.971305</td>\n",
       "      <td>0.980557</td>\n",
       "      <td>0.996050</td>\n",
       "      <td>0.988243</td>\n",
       "      <td>0.989330</td>\n",
       "      <td>0.996589</td>\n",
       "      <td>0.995965</td>\n",
       "      <td>0.996277</td>\n",
       "      <td>0.008034</td>\n",
       "    </tr>\n",
       "    <tr>\n",
       "      <th>1</th>\n",
       "      <td>LogisticRegression</td>\n",
       "      <td>(CountVectorizer(), TfidfTransformer(), Logist...</td>\n",
       "      <td>0.932858</td>\n",
       "      <td>0.922324</td>\n",
       "      <td>0.995070</td>\n",
       "      <td>0.957317</td>\n",
       "      <td>0.962674</td>\n",
       "      <td>0.957902</td>\n",
       "      <td>0.996266</td>\n",
       "      <td>0.976707</td>\n",
       "      <td>0.019390</td>\n",
       "    </tr>\n",
       "    <tr>\n",
       "      <th>2</th>\n",
       "      <td>MultinomialNB</td>\n",
       "      <td>(CountVectorizer(), TfidfTransformer(), Multin...</td>\n",
       "      <td>0.839460</td>\n",
       "      <td>0.871979</td>\n",
       "      <td>0.961123</td>\n",
       "      <td>0.914384</td>\n",
       "      <td>0.907780</td>\n",
       "      <td>0.935338</td>\n",
       "      <td>0.978988</td>\n",
       "      <td>0.956666</td>\n",
       "      <td>0.042282</td>\n",
       "    </tr>\n",
       "    <tr>\n",
       "      <th>3</th>\n",
       "      <td>BernoulliNB</td>\n",
       "      <td>(CountVectorizer(), TfidfTransformer(), Bernou...</td>\n",
       "      <td>0.886159</td>\n",
       "      <td>0.958051</td>\n",
       "      <td>0.920078</td>\n",
       "      <td>0.938681</td>\n",
       "      <td>0.936915</td>\n",
       "      <td>0.982733</td>\n",
       "      <td>0.951118</td>\n",
       "      <td>0.966667</td>\n",
       "      <td>0.027986</td>\n",
       "    </tr>\n",
       "    <tr>\n",
       "      <th>4</th>\n",
       "      <td>GradientBoostingClassifier</td>\n",
       "      <td>(CountVectorizer(), TfidfTransformer(), ([Deci...</td>\n",
       "      <td>0.789572</td>\n",
       "      <td>0.655195</td>\n",
       "      <td>0.996979</td>\n",
       "      <td>0.790735</td>\n",
       "      <td>0.801617</td>\n",
       "      <td>0.668295</td>\n",
       "      <td>0.997427</td>\n",
       "      <td>0.800344</td>\n",
       "      <td>0.009609</td>\n",
       "    </tr>\n",
       "    <tr>\n",
       "      <th>5</th>\n",
       "      <td>DecisionTreeClassifier</td>\n",
       "      <td>(CountVectorizer(), TfidfTransformer(), Decisi...</td>\n",
       "      <td>0.949737</td>\n",
       "      <td>0.986422</td>\n",
       "      <td>0.997255</td>\n",
       "      <td>0.991809</td>\n",
       "      <td>1.000000</td>\n",
       "      <td>1.000000</td>\n",
       "      <td>1.000000</td>\n",
       "      <td>1.000000</td>\n",
       "      <td>0.008191</td>\n",
       "    </tr>\n",
       "    <tr>\n",
       "      <th>6</th>\n",
       "      <td>KNeighborsClassifier</td>\n",
       "      <td>(CountVectorizer(), TfidfTransformer(), KNeigh...</td>\n",
       "      <td>0.605026</td>\n",
       "      <td>0.650266</td>\n",
       "      <td>0.667577</td>\n",
       "      <td>0.658808</td>\n",
       "      <td>0.749224</td>\n",
       "      <td>0.795404</td>\n",
       "      <td>0.811733</td>\n",
       "      <td>0.803486</td>\n",
       "      <td>0.144678</td>\n",
       "    </tr>\n",
       "  </tbody>\n",
       "</table>\n",
       "</div>"
      ],
      "text/plain": [
       "                   Model Name  \\\n",
       "0                   LinearSVC   \n",
       "1          LogisticRegression   \n",
       "2               MultinomialNB   \n",
       "3                 BernoulliNB   \n",
       "4  GradientBoostingClassifier   \n",
       "5      DecisionTreeClassifier   \n",
       "6        KNeighborsClassifier   \n",
       "\n",
       "                                       Trained Model  Accuracy_Test  \\\n",
       "0  (TfidfVectorizer(), LinearSVC(random_state=0, ...       0.971305   \n",
       "1  (CountVectorizer(), TfidfTransformer(), Logist...       0.932858   \n",
       "2  (CountVectorizer(), TfidfTransformer(), Multin...       0.839460   \n",
       "3  (CountVectorizer(), TfidfTransformer(), Bernou...       0.886159   \n",
       "4  (CountVectorizer(), TfidfTransformer(), ([Deci...       0.789572   \n",
       "5  (CountVectorizer(), TfidfTransformer(), Decisi...       0.949737   \n",
       "6  (CountVectorizer(), TfidfTransformer(), KNeigh...       0.605026   \n",
       "\n",
       "   Precision_Test  Recall_Test  F1_Score_Test  Accuracy_Train  \\\n",
       "0        0.980557     0.996050       0.988243        0.989330   \n",
       "1        0.922324     0.995070       0.957317        0.962674   \n",
       "2        0.871979     0.961123       0.914384        0.907780   \n",
       "3        0.958051     0.920078       0.938681        0.936915   \n",
       "4        0.655195     0.996979       0.790735        0.801617   \n",
       "5        0.986422     0.997255       0.991809        1.000000   \n",
       "6        0.650266     0.667577       0.658808        0.749224   \n",
       "\n",
       "   Precision_Train  Recall_Train  F1_Score_Train  difference_f1_score  \n",
       "0         0.996589      0.995965        0.996277             0.008034  \n",
       "1         0.957902      0.996266        0.976707             0.019390  \n",
       "2         0.935338      0.978988        0.956666             0.042282  \n",
       "3         0.982733      0.951118        0.966667             0.027986  \n",
       "4         0.668295      0.997427        0.800344             0.009609  \n",
       "5         1.000000      1.000000        1.000000             0.008191  \n",
       "6         0.795404      0.811733        0.803486             0.144678  "
      ]
     },
     "execution_count": 90,
     "metadata": {},
     "output_type": "execute_result"
    }
   ],
   "source": [
    "result_df = pd.DataFrame(results)\n",
    "result_df['difference_f1_score'] = abs(result_df['F1_Score_Test'] - result_df['F1_Score_Train'])\n",
    "# result_df_test = result_df.iloc[: , [0,2,3,4,5]]\n",
    "# result_df_train = result_df.iloc[: , [0,6,7,8,9]]\n",
    "result_df"
   ]
  },
  {
   "cell_type": "code",
   "execution_count": 91,
   "id": "14389b11",
   "metadata": {},
   "outputs": [],
   "source": [
    "Best_Model_Name = result_df[result_df['difference_f1_score'] == min(result_df['difference_f1_score'])]['Trained Model'].values[0]\n",
    "import pickle\n",
    "with open('financial_news_model_h.sav', 'wb') as best_model_pickle:\n",
    "    pickle.dump(Best_Model_Name, best_model_pickle)\n"
   ]
  },
  {
   "cell_type": "markdown",
   "id": "bae04691",
   "metadata": {},
   "source": [
    "# Working with test dataset\n",
    "Perforn the prediction on the test dataset"
   ]
  },
  {
   "cell_type": "code",
   "execution_count": 92,
   "id": "b9e0419c",
   "metadata": {},
   "outputs": [
    {
     "data": {
      "text/html": [
       "<div>\n",
       "<style scoped>\n",
       "    .dataframe tbody tr th:only-of-type {\n",
       "        vertical-align: middle;\n",
       "    }\n",
       "\n",
       "    .dataframe tbody tr th {\n",
       "        vertical-align: top;\n",
       "    }\n",
       "\n",
       "    .dataframe thead th {\n",
       "        text-align: right;\n",
       "    }\n",
       "</style>\n",
       "<table border=\"1\" class=\"dataframe\">\n",
       "  <thead>\n",
       "    <tr style=\"text-align: right;\">\n",
       "      <th></th>\n",
       "      <th>0</th>\n",
       "    </tr>\n",
       "  </thead>\n",
       "  <tbody>\n",
       "    <tr>\n",
       "      <th>0</th>\n",
       "      <td>Positive</td>\n",
       "    </tr>\n",
       "    <tr>\n",
       "      <th>1</th>\n",
       "      <td>Positive</td>\n",
       "    </tr>\n",
       "    <tr>\n",
       "      <th>2</th>\n",
       "      <td>Negative</td>\n",
       "    </tr>\n",
       "    <tr>\n",
       "      <th>3</th>\n",
       "      <td>Neutral</td>\n",
       "    </tr>\n",
       "    <tr>\n",
       "      <th>4</th>\n",
       "      <td>Negative</td>\n",
       "    </tr>\n",
       "    <tr>\n",
       "      <th>...</th>\n",
       "      <td>...</td>\n",
       "    </tr>\n",
       "    <tr>\n",
       "      <th>5327</th>\n",
       "      <td>Neutral</td>\n",
       "    </tr>\n",
       "    <tr>\n",
       "      <th>5328</th>\n",
       "      <td>Negative</td>\n",
       "    </tr>\n",
       "    <tr>\n",
       "      <th>5329</th>\n",
       "      <td>Positive</td>\n",
       "    </tr>\n",
       "    <tr>\n",
       "      <th>5330</th>\n",
       "      <td>Neutral</td>\n",
       "    </tr>\n",
       "    <tr>\n",
       "      <th>5331</th>\n",
       "      <td>Neutral</td>\n",
       "    </tr>\n",
       "  </tbody>\n",
       "</table>\n",
       "<p>5332 rows × 1 columns</p>\n",
       "</div>"
      ],
      "text/plain": [
       "             0\n",
       "0     Positive\n",
       "1     Positive\n",
       "2     Negative\n",
       "3      Neutral\n",
       "4     Negative\n",
       "...        ...\n",
       "5327   Neutral\n",
       "5328  Negative\n",
       "5329  Positive\n",
       "5330   Neutral\n",
       "5331   Neutral\n",
       "\n",
       "[5332 rows x 1 columns]"
      ]
     },
     "execution_count": 92,
     "metadata": {},
     "output_type": "execute_result"
    }
   ],
   "source": [
    "best_model_h = pickle.load(open('financial_news_model_h.sav', 'rb'))\n",
    "result = best_model_h.predict(X_test)\n",
    "pd.DataFrame(result)\n"
   ]
  },
  {
   "cell_type": "markdown",
   "id": "651aca19",
   "metadata": {},
   "source": [
    "# Prediction\n",
    "You can check the result on real time news headlines\n",
    "\n",
    "Here i have used two fiancial news headlines and predicted its sentiment\n",
    "\n",
    "You can try more\n"
   ]
  },
  {
   "cell_type": "code",
   "execution_count": 93,
   "id": "961b9d19",
   "metadata": {},
   "outputs": [
    {
     "data": {
      "text/plain": [
       "array(['Negative'], dtype=object)"
      ]
     },
     "execution_count": 93,
     "metadata": {},
     "output_type": "execute_result"
    }
   ],
   "source": [
    "sent1 = ['GST officers detect Rs 4,000 crore of ITC fraud in April-June']\n",
    "y_predict = best_model_h.predict(sent1)\n",
    "y_predict\n"
   ]
  },
  {
   "cell_type": "code",
   "execution_count": 94,
   "id": "a2ee714c",
   "metadata": {},
   "outputs": [
    {
     "data": {
      "text/plain": [
       "array(['Positive'], dtype=object)"
      ]
     },
     "execution_count": 94,
     "metadata": {},
     "output_type": "execute_result"
    }
   ],
   "source": [
    "sent2 = [\"Finance Ministry releases Rs 9,871 crore to 17 states as grant\"]\n",
    "y_predict = best_model_h.predict(sent2)\n",
    "y_predict"
   ]
  },
  {
   "cell_type": "code",
   "execution_count": null,
   "id": "a8207892",
   "metadata": {},
   "outputs": [],
   "source": []
  }
 ],
 "metadata": {
  "kernelspec": {
   "display_name": "Python 3 (ipykernel)",
   "language": "python",
   "name": "python3"
  },
  "language_info": {
   "codemirror_mode": {
    "name": "ipython",
    "version": 3
   },
   "file_extension": ".py",
   "mimetype": "text/x-python",
   "name": "python",
   "nbconvert_exporter": "python",
   "pygments_lexer": "ipython3",
   "version": "3.11.4"
  }
 },
 "nbformat": 4,
 "nbformat_minor": 5
}
